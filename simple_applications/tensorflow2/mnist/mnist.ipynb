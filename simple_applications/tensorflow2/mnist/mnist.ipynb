{
 "cells": [
  {
   "cell_type": "markdown",
   "id": "a403ff8e",
   "metadata": {},
   "source": [
    "Copyright (c) 2020 Graphcore Ltd. All rights reserved."
   ]
  },
  {
   "cell_type": "markdown",
   "id": "3d26190f",
   "metadata": {},
   "source": [
    "## Simple MNIST training example\n",
    "\n",
    "This example presents how to train a simple 2-layer fully connected model on \n",
    "the MNIST numeral data set."
   ]
  },
  {
   "cell_type": "markdown",
   "id": "be09dce4",
   "metadata": {},
   "source": [
    "#### Prerequisites\n",
    "\n",
    "Before we start the implementation, we need to prepare an IPU compatible \n",
    "TensorFlow 2 environment. First install the Poplar SDK. Make sure to run the \n",
    "`enable.sh` script for Poplar and activate a Python virtualenv with the \n",
    "TensorFlow 2 wheel from the Poplar SDK installed.\n",
    "\n",
    "Let's validate the installation, import the libraries and check the tensorflow \n",
    "version:"
   ]
  },
  {
   "cell_type": "code",
   "execution_count": null,
   "id": "5748b04b",
   "metadata": {},
   "outputs": [],
   "source": [
    "import tensorflow as tf\n",
    "from matplotlib import pyplot as plt\n",
    "\n",
    "from tensorflow import keras\n",
    "\n",
    "from tensorflow.python import ipu\n",
    "\n",
    "if tf.__version__[0] != '2':\n",
    "    raise ImportError(\"TensorFlow 2 is required for this example\")"
   ]
  },
  {
   "cell_type": "markdown",
   "id": "92e443fc",
   "metadata": {},
   "source": [
    "#### Data loading\n",
    "\n",
    "We are ready to start loading the data. In this tutorial, we take a look at \n",
    "the MNIST dataset. It contains black and white images (1 channel) of \n",
    "handwritten digits 0-9, which have a size of 28 x 28 pixels. This dataset is \n",
    "available in the Keras dataset repository."
   ]
  },
  {
   "cell_type": "code",
   "execution_count": null,
   "id": "1c622594",
   "metadata": {},
   "outputs": [],
   "source": [
    "mnist = keras.datasets.mnist\n",
    "(x_train, y_train), (x_test, y_test) = mnist.load_data()\n",
    "x_train, x_test = x_train / 255.0, x_test / 255.0"
   ]
  },
  {
   "cell_type": "markdown",
   "id": "9cdbf974",
   "metadata": {},
   "source": [
    "Visualize part of our dataset:"
   ]
  },
  {
   "cell_type": "code",
   "execution_count": null,
   "id": "d45f709e",
   "metadata": {},
   "outputs": [],
   "source": [
    "plt.figure(figsize=(15, 10))\n",
    "for i, image, label in zip(range(15), x_train, y_train):\n",
    "    ax = plt.subplot(5, 5, i + 1)\n",
    "    ax.set_title(label)\n",
    "    plt.imshow(image)\n",
    "plt.tight_layout()"
   ]
  },
  {
   "cell_type": "markdown",
   "id": "74b4843e",
   "metadata": {},
   "source": [
    "Create a TensorFlow dataset that we can use for training:"
   ]
  },
  {
   "cell_type": "code",
   "execution_count": null,
   "id": "f828d026",
   "metadata": {},
   "outputs": [],
   "source": [
    "train_ds = tf.data.Dataset.from_tensor_slices((x_train, y_train))\n",
    "train_ds = train_ds.shuffle(10000).batch(32, drop_remainder=True)\n",
    "train_ds = train_ds.map(\n",
    "    lambda d, l: (tf.cast(d, tf.float32), tf.cast(l, tf.float32))\n",
    ")\n",
    "train_ds = train_ds.repeat()"
   ]
  },
  {
   "cell_type": "markdown",
   "id": "07488e31",
   "metadata": {},
   "source": [
    "Now we will create the model using a standard Keras Sequential class. It's \n",
    "important to note that the creation of the Keras model must take place inside \n",
    "a `strategy.scope` block. To make this possible, we will wrap the model \n",
    "creation in a function that can be called later."
   ]
  },
  {
   "cell_type": "code",
   "execution_count": null,
   "id": "11a39f1b",
   "metadata": {},
   "outputs": [],
   "source": [
    "def create_model():\n",
    "    model = keras.Sequential([\n",
    "        keras.layers.Flatten(),\n",
    "        keras.layers.Dense(128, activation='relu'),\n",
    "        keras.layers.Dense(10, activation='softmax')])\n",
    "    return model"
   ]
  },
  {
   "cell_type": "markdown",
   "id": "6063c81b",
   "metadata": {},
   "source": [
    "#### IPU system configuration\n",
    "\n",
    "Next, we should configure our IPU device. To do this, let's create an object \n",
    "of the `IPUConfig` class, and set the `auto_select_ipus = 1` variable - this \n",
    "means that a device with a single IPU will be automatically selected. Finally, \n",
    "we apply our setting by calling `configure_ipu_system()`."
   ]
  },
  {
   "cell_type": "code",
   "execution_count": null,
   "id": "4344c59c",
   "metadata": {},
   "outputs": [],
   "source": [
    "cfg = ipu.config.IPUConfig()\n",
    "cfg.auto_select_ipus = 1\n",
    "cfg.configure_ipu_system()"
   ]
  },
  {
   "cell_type": "markdown",
   "id": "efc23644",
   "metadata": {},
   "source": [
    "You can train, evaluate or run inference on single-IPU models through the Keras \n",
    "APIs as you would with other accelerators, as long as you create the model \n",
    "inside the scope of an `IPUStrategy`. More information about `IPUStrategy` can\n",
    " be found in the [documentation](https://docs.graphcore.ai/projects/tensorflow-user-guide/en/latest/api.html?#tensorflow.python.ipu.ipu_strategy.IPUStrategyV1).\n",
    "\n",
    "In the following code, it is worth \n",
    "noting that the number of steps performed during an epoch must be divisible by \n",
    "the number of steps performed per execution."
   ]
  },
  {
   "cell_type": "code",
   "execution_count": null,
   "id": "0d477676",
   "metadata": {
    "tags": [
     "sst_hide_output"
    ]
   },
   "outputs": [],
   "source": [
    "strategy = ipu.ipu_strategy.IPUStrategy()\n",
    "with strategy.scope():\n",
    "    model = create_model()\n",
    "    model.compile(\n",
    "        loss=keras.losses.SparseCategoricalCrossentropy(),\n",
    "        optimizer=keras.optimizers.SGD(),\n",
    "        steps_per_execution=100\n",
    "    )\n",
    "    model.fit(train_ds, steps_per_epoch=2000, epochs=4)"
   ]
  },
  {
   "cell_type": "markdown",
   "id": "10dd9f0d",
   "metadata": {},
   "source": [
    "If you would like to further explore the possibilities of using IPU with Keras, \n",
    "feel free to check [Keras with IPU's](https://docs.graphcore.ai/projects/tensorflow-user-guide/en/latest/keras_tf2.html#keras-with-ipus) \n",
    "documentation page."
   ]
  }
 ],
 "metadata": {},
 "nbformat": 4,
 "nbformat_minor": 5
}