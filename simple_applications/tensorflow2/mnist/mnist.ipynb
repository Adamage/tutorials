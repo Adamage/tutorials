{
 "cells": [
  {
   "cell_type": "markdown",
   "id": "b716d2bd",
   "metadata": {},
   "source": [
    "Copyright (c) 2021 Graphcore Ltd. All rights reserved."
   ]
  },
  {
   "cell_type": "markdown",
   "id": "40808900",
   "metadata": {},
   "source": [
    "## Simple MNIST training example\n",
    "\n",
    "This example presents how to train a simple 2-layer fully connected model on \n",
    "the MNIST numeral data set."
   ]
  },
  {
   "cell_type": "markdown",
   "id": "cee3db62",
   "metadata": {},
   "source": [
    "#### Prerequisites\n",
    "\n",
    "Before we start the implementation, we need an environment with TensorFlow \n",
    "library that can be run on the IPU. To accomplish this, complete the following \n",
    "steps - install the Poplar SDK and Make sure to run the `enable.sh` script \n",
    "for Poplar and activate a Python virtualenv with the tensorflow-2 wheel from \n",
    "the Poplar SDK installed.\n",
    "\n",
    "Let's validate the installation, import the libraries and check the tensorflow \n",
    "version:"
   ]
  },
  {
   "cell_type": "code",
   "execution_count": null,
   "id": "ac665be1",
   "metadata": {},
   "outputs": [],
   "source": [
    "import tensorflow as tf\n",
    "from matplotlib import pyplot as plt\n",
    "\n",
    "from tensorflow import keras\n",
    "\n",
    "from tensorflow.python import ipu\n",
    "\n",
    "if tf.__version__[0] != '2':\n",
    "    raise ImportError(\"TensorFlow 2 is required for this example\")"
   ]
  },
  {
   "cell_type": "markdown",
   "id": "3cdbb66c",
   "metadata": {},
   "source": [
    "#### Data loading\n",
    "\n",
    "We are ready to start loading the data. In this tutorial, we take a look at \n",
    "the MNIST dataset. It contains b&w images (1 channel) of handwritten digits 0-9,\n",
    "which have a size of 28 x 28 pixels. This dataset is available in the keras \n",
    "dataset repository."
   ]
  },
  {
   "cell_type": "code",
   "execution_count": null,
   "id": "57a2ffd2",
   "metadata": {},
   "outputs": [],
   "source": [
    "mnist = keras.datasets.mnist\n",
    "(x_train, y_train), (x_test, y_test) = mnist.load_data()\n",
    "x_train, x_test = x_train / 255.0, x_test / 255.0"
   ]
  },
  {
   "cell_type": "markdown",
   "id": "2374e658",
   "metadata": {},
   "source": [
    "Visualize part of our dataset:"
   ]
  },
  {
   "cell_type": "code",
   "execution_count": null,
   "id": "298b27af",
   "metadata": {},
   "outputs": [],
   "source": [
    "plt.figure(figsize=(15, 10))\n",
    "for i, image, label in zip(range(15), x_train, y_train):\n",
    "    ax = plt.subplot(5, 5, i + 1)\n",
    "    ax.set_title(label)\n",
    "    plt.imshow(image)\n",
    "plt.tight_layout()"
   ]
  },
  {
   "cell_type": "markdown",
   "id": "f097c6a6",
   "metadata": {},
   "source": [
    "Create a tensorflow dataset:"
   ]
  },
  {
   "cell_type": "code",
   "execution_count": null,
   "id": "50805900",
   "metadata": {},
   "outputs": [],
   "source": [
    "train_ds = tf.data.Dataset.from_tensor_slices((x_train, y_train))\n",
    "train_ds = train_ds.shuffle(10000).batch(32, drop_remainder=True)\n",
    "train_ds = train_ds.map(\n",
    "    lambda d, l: (tf.cast(d, tf.float32), tf.cast(l, tf.float32))\n",
    ")\n",
    "train_ds = train_ds.repeat()"
   ]
  },
  {
   "cell_type": "markdown",
   "id": "11c57531",
   "metadata": {},
   "source": [
    "Now, we will create the model using standard Keras Sequential class. Important \n",
    "note, the creation of the Keras model must take place inside `strategy.scope` \n",
    "(we'll get to that later), in order to make this possible, we will wrap the \n",
    "model creation in a function:"
   ]
  },
  {
   "cell_type": "code",
   "execution_count": null,
   "id": "f39ad1c6",
   "metadata": {},
   "outputs": [],
   "source": [
    "def create_model():\n",
    "    model = keras.Sequential([\n",
    "        keras.layers.Flatten(),\n",
    "        keras.layers.Dense(128, activation='relu'),\n",
    "        keras.layers.Dense(10, activation='softmax')])\n",
    "    return model"
   ]
  },
  {
   "cell_type": "markdown",
   "id": "28aa6efc",
   "metadata": {},
   "source": [
    "#### IPU system configuration\n",
    "\n",
    "Next, we should configure our IPU device. To do this, let's create an object \n",
    "of the `IPUConfig` class, and set the `auto_select_ipus = 1` variable - this \n",
    "means that a device with a single IPU will be automatically selected. Finally, \n",
    "we apply our settings using `configure_ipu_system` command."
   ]
  },
  {
   "cell_type": "code",
   "execution_count": null,
   "id": "2424cfc7",
   "metadata": {},
   "outputs": [],
   "source": [
    "cfg = ipu.config.IPUConfig()\n",
    "cfg.auto_select_ipus = 1\n",
    "cfg.configure_ipu_system()"
   ]
  },
  {
   "cell_type": "markdown",
   "id": "c0f2c5c1",
   "metadata": {},
   "source": [
    "You can train, evaluate or run inference on single-IPU models through the Keras \n",
    "APIs as you would with other accelerators, as long as you create the model \n",
    "inside the scope of an `IPUStrategy`. In the following code, it is worth \n",
    "noting that the number of steps performed during an epoch must be divisible by \n",
    "the number of steps performed per execution."
   ]
  },
  {
   "cell_type": "code",
   "execution_count": null,
   "id": "be10edc4",
   "metadata": {
    "tags": [
     "sst_hide_output"
    ]
   },
   "outputs": [],
   "source": [
    "strategy = ipu.ipu_strategy.IPUStrategy()\n",
    "with strategy.scope():\n",
    "    model = create_model()\n",
    "    model.compile(\n",
    "        loss=keras.losses.SparseCategoricalCrossentropy(),\n",
    "        optimizer=keras.optimizers.SGD(),\n",
    "        steps_per_execution=100\n",
    "    )\n",
    "    model.fit(train_ds, steps_per_epoch=2000, epochs=4)\n",
    "    "
   ]
  },
  {
   "cell_type": "markdown",
   "id": "1a0b916b",
   "metadata": {},
   "source": [
    "```\n",
    "2000/2000 [==============================] - 11s 6ms/step - loss: 0.9795\n",
    " 25%|███████████████████████████████████████                                                                                                                     | 1/4 [00:11<00:34, 11.50s/epoch, loss=0.637]Epoch 2/4\n",
    "2000/2000 [==============================] - 1s 459us/step - loss: 0.3511\n",
    " 50%|██████████████████████████████████████████████████████████████████████████████                                                                              | 2/4 [00:12<00:10,  5.27s/epoch, loss=0.333]Epoch 3/4\n",
    "2000/2000 [==============================] - 1s 460us/step - loss: 0.2937\n",
    " 75%|█████████████████████████████████████████████████████████████████████████████████████████████████████████████████████                                       | 3/4 [00:13<00:03,  3.29s/epoch, loss=0.283]Epoch 4/4\n",
    "2000/2000 [==============================] - 1s 527us/step - loss: 0.2639\n",
    "100%|████████████████████████████████████████████████████████████████████████████████████████████████████████████████████████████████████████████████████████████| 4/4 [00:14<00:00,  3.60s/epoch, loss=0.254]\n",
    "```"
   ]
  },
  {
   "cell_type": "markdown",
   "id": "469cef1b",
   "metadata": {},
   "source": [
    "If you would like to further explore the possibilities of using IPU with Keras, \n",
    "feel free to check [Keras with IPU's](https://docs.graphcore.ai/projects/tensorflow-user-guide/en/latest/keras_tf2.html#keras-with-ipus) \n",
    "documentation page."
   ]
  }
 ],
 "metadata": {},
 "nbformat": 4,
 "nbformat_minor": 5
}