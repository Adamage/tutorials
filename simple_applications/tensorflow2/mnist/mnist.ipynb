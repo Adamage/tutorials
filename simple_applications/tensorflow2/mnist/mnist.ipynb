{
 "cells": [
  {
   "cell_type": "markdown",
   "id": "eaa12be5",
   "metadata": {},
   "source": [
    "Copyright (c) 2021 Graphcore Ltd. All rights reserved.\n",
    "\n",
    "## Simple MNIST training example\n",
    "\n",
    "This example presents how to train a simple 2-layer fully connected model on the MNIST numeral data set."
   ]
  },
  {
   "cell_type": "markdown",
   "id": "1f1c527e",
   "metadata": {},
   "source": [
    "#### Prerequisites\n",
    "\n",
    "Before we start the implementation, we need an environment with TensorFlow library that can be run on the IPU.\n",
    "To accomplish this, complete the following steps - install the Poplar SDK and Make sure to run the `enable.sh` script \n",
    "for Poplar and activate a Python virtualenv with the tensorflow-2 wheel from the Poplar SDK installed.\n",
    "\n",
    "Let's validate the installation, import the libraries and check the tensorflow version:"
   ]
  },
  {
   "cell_type": "code",
   "execution_count": null,
   "id": "27e0a45c",
   "metadata": {},
   "outputs": [],
   "source": [
    "import tensorflow as tf\n",
    "from matplotlib import pyplot as plt\n",
    "\n",
    "from tensorflow import keras\n",
    "\n",
    "from tensorflow.python import ipu\n",
    "\n",
    "if tf.__version__[0] != '2':\n",
    "    raise ImportError(\"TensorFlow 2 is required for this example\")"
   ]
  },
  {
   "cell_type": "markdown",
   "id": "b4ab2c9b",
   "metadata": {},
   "source": [
    "#### Data loading\n",
    "\n",
    "We are ready to start loading the data. In this tutorial, we take a look at the MNIST dataset. It contains b&w images \n",
    "(1 channel) of handwritten digits 0-9, which have a size of 28 x 28 pixels. This dataset is available in the keras dataset repository."
   ]
  },
  {
   "cell_type": "code",
   "execution_count": null,
   "id": "bb5511b4",
   "metadata": {},
   "outputs": [],
   "source": [
    "mnist = keras.datasets.mnist\n",
    "(x_train, y_train), (x_test, y_test) = mnist.load_data()\n",
    "x_train, x_test = x_train / 255.0, x_test / 255.0"
   ]
  },
  {
   "cell_type": "markdown",
   "id": "e0a57664",
   "metadata": {},
   "source": [
    "Visualize part of our dataset:"
   ]
  },
  {
   "cell_type": "code",
   "execution_count": null,
   "id": "128295b1",
   "metadata": {},
   "outputs": [],
   "source": [
    "plt.figure(figsize=(15, 10))\n",
    "for i, image, label in zip(range(15), x_train, y_train):\n",
    "    ax = plt.subplot(5, 5, i + 1)\n",
    "    ax.set_title(label)\n",
    "    plt.imshow(image)\n",
    "plt.tight_layout()"
   ]
  },
  {
   "cell_type": "markdown",
   "id": "c5454c50",
   "metadata": {},
   "source": [
    "Create a tensorflow dataset:"
   ]
  },
  {
   "cell_type": "code",
   "execution_count": null,
   "id": "b4c4f0e5",
   "metadata": {},
   "outputs": [],
   "source": [
    "train_ds = tf.data.Dataset.from_tensor_slices((x_train, y_train)).shuffle(10000).batch(32, drop_remainder=True)\n",
    "train_ds = train_ds.map(lambda d, l: (tf.cast(d, tf.float32), tf.cast(l, tf.float32)))\n",
    "train_ds = train_ds.repeat()"
   ]
  },
  {
   "cell_type": "markdown",
   "id": "bcddb36d",
   "metadata": {},
   "source": [
    "Now, we will create the model using standard Keras Sequential class. Important note, the creation of the Keras model \n",
    "must take place inside `strategy.scope` (we'll get to that later), in order to make this possible, we will wrap the model \n",
    "creation in a function:"
   ]
  },
  {
   "cell_type": "code",
   "execution_count": null,
   "id": "29b9092f",
   "metadata": {},
   "outputs": [],
   "source": [
    "def create_model():\n",
    "    model = keras.Sequential([\n",
    "        keras.layers.Flatten(),\n",
    "        keras.layers.Dense(128, activation='relu'),\n",
    "        keras.layers.Dense(10, activation='softmax')])\n",
    "    return model"
   ]
  },
  {
   "cell_type": "markdown",
   "id": "8c0be112",
   "metadata": {},
   "source": [
    "#### IPU system configuration\n",
    "\n",
    "Next, we should configure our IPU device. To do this, let's create an object of the `IPUConfig` class, and set the \n",
    "`auto_select_ipus = 1` variable - this means that a device with a single IPU will be automatically selected. \n",
    "Finally, we apply our settings using `configure_ipu_system` command."
   ]
  },
  {
   "cell_type": "code",
   "execution_count": null,
   "id": "1b6a79d6",
   "metadata": {},
   "outputs": [],
   "source": [
    "cfg = ipu.config.IPUConfig()\n",
    "cfg.auto_select_ipus = 1\n",
    "cfg.configure_ipu_system()"
   ]
  },
  {
   "cell_type": "markdown",
   "id": "17c31834",
   "metadata": {},
   "source": [
    "You can train, evaluate or run inference on single-IPU models through the Keras APIs as you would with other accelerators, \n",
    "as long as you create the model inside the scope of an `IPUStrategy`. In the following code, it is worth noting that the \n",
    "number of steps performed during an epoch must be divisible by the number of steps performed per execution.\n"
   ]
  },
  {
   "cell_type": "code",
   "execution_count": null,
   "id": "017787fe",
   "metadata": {
    "tags": [
     "sst_hide_output"
    ]
   },
   "outputs": [],
   "source": [
    "strategy = ipu.ipu_strategy.IPUStrategy()\n",
    "with strategy.scope():\n",
    "    model = create_model()\n",
    "    model.compile(loss=keras.losses.SparseCategoricalCrossentropy(), optimizer=keras.optimizers.SGD(),\n",
    "                  steps_per_execution=100)\n",
    "    model.fit(train_ds, steps_per_epoch=2000, epochs=4)\n",
    "    "
   ]
  },
  {
   "cell_type": "markdown",
   "id": "ea75ceda",
   "metadata": {},
   "source": [
    "```\n",
    "2000/2000 [==============================] - 11s 6ms/step - loss: 0.9795\n",
    " 25%|███████████████████████████████████████                                                                                                                     | 1/4 [00:11<00:34, 11.50s/epoch, loss=0.637]Epoch 2/4\n",
    "2000/2000 [==============================] - 1s 459us/step - loss: 0.3511\n",
    " 50%|██████████████████████████████████████████████████████████████████████████████                                                                              | 2/4 [00:12<00:10,  5.27s/epoch, loss=0.333]Epoch 3/4\n",
    "2000/2000 [==============================] - 1s 460us/step - loss: 0.2937\n",
    " 75%|█████████████████████████████████████████████████████████████████████████████████████████████████████████████████████                                       | 3/4 [00:13<00:03,  3.29s/epoch, loss=0.283]Epoch 4/4\n",
    "2000/2000 [==============================] - 1s 527us/step - loss: 0.2639\n",
    "100%|████████████████████████████████████████████████████████████████████████████████████████████████████████████████████████████████████████████████████████████| 4/4 [00:14<00:00,  3.60s/epoch, loss=0.254]\n",
    "```"
   ]
  },
  {
   "cell_type": "markdown",
   "id": "5d1d48a7",
   "metadata": {},
   "source": [
    "If you would like to further explore the possibilities of using IPU with Keras, feel free to check \n",
    "[Keras with IPU's](https://docs.graphcore.ai/projects/tensorflow-user-guide/en/latest/keras_tf2.html#keras-with-ipus) \n",
    "documentation page."
   ]
  }
 ],
 "metadata": {},
 "nbformat": 4,
 "nbformat_minor": 5
}
