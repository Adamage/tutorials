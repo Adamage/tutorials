{
 "cells": [
  {
   "cell_type": "code",
   "execution_count": 1,
   "id": "0a3fcb76",
   "metadata": {},
   "outputs": [],
   "source": [
    "import os\n",
    "import poptorch\n",
    "import torch\n",
    "\n",
    "from datasets import load_dataset\n",
    "from torch.utils.data import DataLoader\n",
    "from transformers import AutoTokenizer, AutoModelForSequenceClassification, get_scheduler, AdamW\n",
    "from tqdm.notebook import tqdm\n",
    "from sklearn.metrics import accuracy_score\n",
    "\n",
    "import numpy as np"
   ]
  },
  {
   "cell_type": "code",
   "execution_count": 2,
   "id": "47d40a07",
   "metadata": {},
   "outputs": [
    {
     "name": "stderr",
     "output_type": "stream",
     "text": [
      "Reusing dataset imdb (/home/kamilp/.cache/huggingface/datasets/imdb/plain_text/1.0.0/e3c66f1788a67a89c7058d97ff62b6c30531e05b549de56d3ab91891f0561f9a)\n",
      "Loading cached processed dataset at /home/kamilp/.cache/huggingface/datasets/imdb/plain_text/1.0.0/e3c66f1788a67a89c7058d97ff62b6c30531e05b549de56d3ab91891f0561f9a/cache-57f371c49ae71cc3.arrow\n",
      "Loading cached processed dataset at /home/kamilp/.cache/huggingface/datasets/imdb/plain_text/1.0.0/e3c66f1788a67a89c7058d97ff62b6c30531e05b549de56d3ab91891f0561f9a/cache-fe6a5da606659f22.arrow\n",
      "Loading cached processed dataset at /home/kamilp/.cache/huggingface/datasets/imdb/plain_text/1.0.0/e3c66f1788a67a89c7058d97ff62b6c30531e05b549de56d3ab91891f0561f9a/cache-9284272e82823a4e.arrow\n",
      "Loading cached shuffled indices for dataset at /home/kamilp/.cache/huggingface/datasets/imdb/plain_text/1.0.0/e3c66f1788a67a89c7058d97ff62b6c30531e05b549de56d3ab91891f0561f9a/cache-c61fe55def0a4b5c.arrow\n",
      "Loading cached shuffled indices for dataset at /home/kamilp/.cache/huggingface/datasets/imdb/plain_text/1.0.0/e3c66f1788a67a89c7058d97ff62b6c30531e05b549de56d3ab91891f0561f9a/cache-5cb4b92d3f0575df.arrow\n"
     ]
    }
   ],
   "source": [
    "raw_datasets = load_dataset(\"imdb\")\n",
    "tokenizer = AutoTokenizer.from_pretrained(\"google/electra-base-generator\")\n",
    "\n",
    "def tokenize_function(examples):\n",
    "    return tokenizer(examples[\"text\"], padding=\"max_length\", truncation=True)\n",
    "\n",
    "tokenized_datasets = raw_datasets.map(tokenize_function, remove_columns=['text'])\n",
    "\n",
    "train_dataset = tokenized_datasets[\"train\"].shuffle(seed=42)\n",
    "eval_dataset = tokenized_datasets[\"test\"].shuffle(seed=42)\n",
    "\n",
    "train_dataset = train_dataset.rename_column(original_column_name='label', new_column_name='labels')\n",
    "eval_dataset = eval_dataset.rename_column(original_column_name='label', new_column_name='labels')\n",
    "\n",
    "train_dataset.set_format(type='torch')\n",
    "eval_dataset.set_format(type='torch')\n",
    "\n",
    "opts = poptorch.Options().deviceIterations(8)\n",
    "train_dataloader = poptorch.DataLoader(\n",
    "    options=opts, \n",
    "    dataset=train_dataset, \n",
    "    shuffle=True, \n",
    "    batch_size=4, \n",
    "    drop_last=True\n",
    ")\n",
    "\n",
    "val_opts = poptorch.Options().deviceIterations(8).anchorMode(poptorch.AnchorMode.All)\n",
    "eval_dataloader = poptorch.DataLoader(\n",
    "    options=val_opts, \n",
    "    dataset=eval_dataset, \n",
    "    batch_size=4, \n",
    "    drop_last=True\n",
    ")"
   ]
  },
  {
   "cell_type": "code",
   "execution_count": 3,
   "id": "46ce0f7f",
   "metadata": {},
   "outputs": [
    {
     "name": "stderr",
     "output_type": "stream",
     "text": [
      "Some weights of the model checkpoint at google/electra-base-generator were not used when initializing ElectraForSequenceClassification: ['generator_predictions.LayerNorm.bias', 'generator_predictions.dense.bias', 'generator_predictions.LayerNorm.weight', 'generator_lm_head.bias', 'generator_lm_head.weight', 'generator_predictions.dense.weight']\n",
      "- This IS expected if you are initializing ElectraForSequenceClassification from the checkpoint of a model trained on another task or with another architecture (e.g. initializing a BertForSequenceClassification model from a BertForPreTraining model).\n",
      "- This IS NOT expected if you are initializing ElectraForSequenceClassification from the checkpoint of a model that you expect to be exactly identical (initializing a BertForSequenceClassification model from a BertForSequenceClassification model).\n",
      "Some weights of ElectraForSequenceClassification were not initialized from the model checkpoint at google/electra-base-generator and are newly initialized: ['classifier.dense.weight', 'classifier.out_proj.weight', 'classifier.dense.bias', 'classifier.out_proj.bias']\n",
      "You should probably TRAIN this model on a down-stream task to be able to use it for predictions and inference.\n"
     ]
    }
   ],
   "source": [
    "class Wrapped(torch.nn.Module):\n",
    "    def __init__(self, model):\n",
    "        super().__init__()\n",
    "        self.model = model       \n",
    "\n",
    "    def forward(self, input_ids, token_type_ids, attention_mask, labels):\n",
    "        loss, logits = self.model.forward(\n",
    "            input_ids=input_ids,\n",
    "            token_type_ids=token_type_ids,\n",
    "            attention_mask=attention_mask,\n",
    "            labels=labels\n",
    "        )\n",
    "        \n",
    "        if self.model.training:\n",
    "            final_loss = poptorch.identity_loss(loss, reduction=\"none\")\n",
    "            return final_loss, logits\n",
    "        \n",
    "        return loss, logits\n",
    "    \n",
    "model = AutoModelForSequenceClassification.from_pretrained(\"google/electra-base-generator\", num_labels=2, return_dict=False)\n",
    "optimizer = AdamW(model.parameters(), lr=1e-5)"
   ]
  },
  {
   "cell_type": "code",
   "execution_count": 4,
   "id": "b749946a",
   "metadata": {},
   "outputs": [],
   "source": [
    "model.electra.embeddings = poptorch.BeginBlock(model.electra.embeddings, \"Embedding\", ipu_id=0)\n",
    "\n",
    "layer_ipu = [0,0,0,1,1,1,2,2,2,3,3,3]\n",
    "for index, layer in enumerate(model.electra.encoder.layer):\n",
    "    ipu = layer_ipu[index]\n",
    "    model.electra.encoder.layer[index] = poptorch.BeginBlock(layer, f\"Encoder{index}\", ipu_id=ipu)\n",
    "    \n",
    "model.classifier = poptorch.BeginBlock(model.classifier, \"Classifier\", ipu_id=3)"
   ]
  },
  {
   "cell_type": "code",
   "execution_count": 5,
   "id": "58c175ea",
   "metadata": {},
   "outputs": [],
   "source": [
    "trainingModel = poptorch.trainingModel(Wrapped(model), options=opts)\n",
    "inferenceModel = poptorch.inferenceModel(Wrapped(model), options=val_opts)"
   ]
  },
  {
   "cell_type": "code",
   "execution_count": 6,
   "id": "64caedac",
   "metadata": {},
   "outputs": [
    {
     "name": "stderr",
     "output_type": "stream",
     "text": [
      "Graph compilation: 100%|██████████| 100/100 [06:54<00:00]\n"
     ]
    }
   ],
   "source": [
    "trainingModel.compile(**next(iter(train_dataloader)))"
   ]
  },
  {
   "cell_type": "code",
   "execution_count": 7,
   "id": "9b5aa6b2",
   "metadata": {},
   "outputs": [
    {
     "name": "stderr",
     "output_type": "stream",
     "text": [
      "Graph compilation: 100%|██████████| 100/100 [01:47<00:00]\n"
     ]
    }
   ],
   "source": [
    "inferenceModel.compile(**next(iter(eval_dataloader)))"
   ]
  },
  {
   "cell_type": "code",
   "execution_count": 8,
   "id": "de8fc417",
   "metadata": {},
   "outputs": [
    {
     "name": "stdout",
     "output_type": "stream",
     "text": [
      "0.49991997439180536 0.6932223301080369\n"
     ]
    }
   ],
   "source": [
    "y_pred, y_true, losses = [], [], []\n",
    "for batch in eval_dataloader:\n",
    "    y_true.extend(batch['labels'].tolist())\n",
    "\n",
    "    with torch.no_grad():\n",
    "        loss, logits = inferenceModel(**batch)\n",
    "\n",
    "    losses.extend(loss.tolist())\n",
    "    y_pred.extend(logits.argmax(dim=1).tolist())\n",
    "\n",
    "acc = accuracy_score(y_true, y_pred)\n",
    "val_loss = np.mean(losses)\n",
    "\n",
    "print(acc, val_loss)"
   ]
  },
  {
   "cell_type": "code",
   "execution_count": 9,
   "id": "1ab4c09d",
   "metadata": {
    "scrolled": false
   },
   "outputs": [
    {
     "data": {
      "application/vnd.jupyter.widget-view+json": {
       "model_id": "67792aae190245b3a7026df192e28366",
       "version_major": 2,
       "version_minor": 0
      },
      "text/plain": [
       "  0%|          | 0/2 [00:00<?, ?it/s]"
      ]
     },
     "metadata": {},
     "output_type": "display_data"
    },
    {
     "name": "stdout",
     "output_type": "stream",
     "text": [
      "0.8753201024327785 0.30010253097385015\n",
      "0.9041293213828425 0.2394368511843155\n"
     ]
    }
   ],
   "source": [
    "train_loss, val_loss, acc = 0,0,0\n",
    "progress_bar = tqdm(range(2), total=2)\n",
    "\n",
    "for epoch in progress_bar:\n",
    "    for batch in train_dataloader:\n",
    "        loss, logits = trainingModel(**batch)\n",
    "        train_loss = loss.item()\n",
    "        \n",
    "        progress_bar.set_postfix({'epoch':epoch, 'train_loss': train_loss, 'val_loss':val_loss, 'acc': acc})\n",
    "        \n",
    "    trainingModel.copyWeightsToHost()\n",
    "    inferenceModel.copyWeightsToDevice()\n",
    "\n",
    "    y_pred, y_true, losses = [], [], []\n",
    "    for batch in eval_dataloader:\n",
    "        y_true.extend(batch['labels'].tolist())\n",
    "        \n",
    "        with torch.no_grad():\n",
    "            loss, logits = inferenceModel(**batch)\n",
    "            \n",
    "        losses.extend(loss.tolist())\n",
    "        y_pred.extend(logits.argmax(dim=1).tolist())\n",
    "        \n",
    "    acc = accuracy_score(y_true, y_pred)\n",
    "    val_loss = np.mean(losses)\n",
    "    \n",
    "    print(acc, val_loss)\n",
    "    \n",
    "    progress_bar.set_postfix({'epoch':epoch, 'train_loss': train_loss, 'val_loss':val_loss, 'acc': acc})"
   ]
  },
  {
   "cell_type": "code",
   "execution_count": 10,
   "id": "42e9f781",
   "metadata": {},
   "outputs": [],
   "source": [
    "train_dataloader.terminate()\n",
    "eval_dataloader.terminate()"
   ]
  }
 ],
 "metadata": {
  "kernelspec": {
   "display_name": "Python 3",
   "language": "python",
   "name": "python3"
  },
  "language_info": {
   "codemirror_mode": {
    "name": "ipython",
    "version": 3
   },
   "file_extension": ".py",
   "mimetype": "text/x-python",
   "name": "python",
   "nbconvert_exporter": "python",
   "pygments_lexer": "ipython3",
   "version": "3.6.9"
  }
 },
 "nbformat": 4,
 "nbformat_minor": 5
}
