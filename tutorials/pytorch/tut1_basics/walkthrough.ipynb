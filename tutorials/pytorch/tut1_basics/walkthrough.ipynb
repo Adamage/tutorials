{
 "cells": [
  {
   "cell_type": "markdown",
   "id": "7ee4e023",
   "metadata": {},
   "source": [
    "Copyright (c) 2021 Graphcore Ltd. All rights reserved."
   ]
  },
  {
   "cell_type": "markdown",
   "id": "1a64f9c2",
   "metadata": {},
   "source": [
    "# Half and mixed precision in PopTorch\n",
    "This tutorial shows how to use half and mixed precision in PopTorch with the\n",
    "example task of training a simple CNN model on a single\n",
    "Graphcore IPU (Mk1 or Mk2)."
   ]
  },
  {
   "cell_type": "markdown",
   "id": "7f7692f2",
   "metadata": {},
   "source": [
    "Requirements:\n",
    "- an installed Poplar SDK. See the Getting Started guide for your IPU\n",
    "hardware for details of how to install the SDK;\n",
    "- Other Python modules: `pip install -r requirements.txt`"
   ]
  },
  {
   "cell_type": "markdown",
   "id": "53a6a9b0",
   "metadata": {},
   "source": [
    "# General\n",
    "\n",
    "## Motives for half precision\n",
    "\n",
    "Data is stored in memory, and some formats to store that data require less memory than others. In a device's memory, \n",
    "when it comes to numerical data, we use either integers or real numbers. Real numbers are represented by one of several \n",
    "floating point formats, which vary in how many bits they use to represent each number. Using more bits allows for \n",
    "greater precision and a wider range of representable numbers, whereas using fewer bits allows for faster calculations \n",
    "and reduces memory and power usage. In deep learning applications, where less precise calculations are acceptable and \n",
    "throughput is critical, using a lower precision format can provide substantial gains in performance.\n",
    "\n",
    "The Graphcore IPU provides native support for two floating-point formats:\n",
    "\n",
    "- IEEE single-precision, which uses 32 bits for each number (FP32)\n",
    "- IEEE half-precision, which uses 16 bits for each number (FP16)\n",
    "\n",
    "Some applications which use FP16 do all calculations in FP16, whereas others use a mix of FP16 and FP32. The latter \n",
    "approach is known as *mixed precision*.\n",
    "\n",
    "In this tutorial, we are going to talk about real numbers represented in FP32 and FP16, and how to use these data types \n",
    "(dtypes) in PopTorch in order to reduce the memory requirements of a model.\n",
    "\n",
    "## Numerical stability\n",
    "\n",
    "Numeric stability refers to how a model's performance is affected by the use of a lower-precision dtype. We say an \n",
    "operation is \"numerically unstable\" in FP16 if running it in this dtype causes the model to have worse accuracy compared\n",
    " to running the operation in FP32. Two techniques that can be used to increase the numerical stability of a model are \n",
    " loss scaling and stochastic rounding.\n",
    "\n",
    "### Loss scaling\n",
    "\n",
    "A numerical issue that can occur when training a model in half-precision is that the gradients can underflow. This can \n",
    "be difficult to debug because the model will simply appear to not be training, and can be especially damaging because \n",
    "any gradients which underflow will propagate a value of 0 backwards to other gradient calculations.\n",
    "\n",
    "The standard solution to this is known as *loss scaling*, which consists of scaling up the loss value right before the \n",
    "start of backpropagation to prevent numerical underflow of the gradients. Instructions on how to use loss scaling will \n",
    "be discussed later in this tutorial.\n",
    "\n",
    "### Stochastic rounding\n",
    "\n",
    "When training in half or mixed precision, numbers multiplied by each other will need to be rounded in order to fit into \n",
    "the floating point format used. Stochastic rounding is the process of using a probabilistic equation for the rounding. \n",
    "Instead of always rounding to the nearest representable number, we round up or down with a probability such that the \n",
    "expected value after rounding is equal to the value before rounding. Since the expected value of an addition after \n",
    "rounding is equal to the exact result of the addition, the expected value of a sum is also its exact value.\n",
    "\n",
    "This means that on average, the values of the parameters of a network will be close to the values they would have had if \n",
    "a higher-precision format had been used. The added bonus of using stochastic rounding is that the parameters can be \n",
    "stored in FP16, which means the parameters can be stored using half as much memory. This can be especially helpful when \n",
    "training with small batch sizes, where the memory used to store the parameters is proportionally greater than the memory \n",
    "used to store parameters when training with large batch sizes.\n",
    "\n",
    "It is highly recommended that you enable this feature when training neural networks with FP16 weights. The instructions \n",
    "to enable it in PopTorch are presented later in this tutorial."
   ]
  },
  {
   "cell_type": "markdown",
   "id": "5c4c01b6",
   "metadata": {},
   "source": [
    "Import the packages"
   ]
  },
  {
   "cell_type": "code",
   "execution_count": null,
   "id": "a3eb400b",
   "metadata": {},
   "outputs": [],
   "source": [
    "import torch\n",
    "import torch.nn as nn\n",
    "import torchvision\n",
    "import torchvision.transforms as transforms\n",
    "import poptorch\n",
    "from tqdm.auto import tqdm"
   ]
  },
  {
   "cell_type": "markdown",
   "id": "905acf57",
   "metadata": {},
   "source": [
    "## Build the model\n",
    "\n",
    "We use the same model as in [the previous tutorials on PopTorch](../). \n",
    "Just like in the [previous tutorial](../tut2_efficient_data_loading), we are using larger images (128x128) to simulate \n",
    "a heavier data load. This will make the difference in memory between FP32 and FP16 meaningful enough to showcase \n",
    "in this tutorial."
   ]
  },
  {
   "cell_type": "code",
   "execution_count": null,
   "id": "03aab513",
   "metadata": {},
   "outputs": [],
   "source": [
    "class CustomModel(nn.Module):\n",
    "    def __init__(self):\n",
    "        super().__init__()\n",
    "        self.conv1 = nn.Conv2d(1, 5, 3)\n",
    "        self.pool = nn.MaxPool2d(2, 2)\n",
    "        self.conv2 = nn.Conv2d(5, 12, 5)\n",
    "        self.norm = nn.GroupNorm(3, 12)\n",
    "        self.fc1 = nn.Linear(41772, 100)\n",
    "        self.relu = nn.ReLU()\n",
    "        self.fc2 = nn.Linear(100, 10)\n",
    "        self.log_softmax = nn.LogSoftmax(dim=0)\n",
    "        self.loss = nn.NLLLoss()\n",
    "\n",
    "    def forward(self, x, labels=None):\n",
    "        x = self.pool(self.relu(self.conv1(x)))\n",
    "        x = self.norm(self.relu(self.conv2(x)))\n",
    "        x = torch.flatten(x, start_dim=1)\n",
    "        x = self.relu(self.fc1(x))\n",
    "        x = self.log_softmax(self.fc2(x))\n",
    "        # The model is responsible for the calculation\n",
    "        # of the loss when using an IPU. We do it this way:\n",
    "        if self.training:\n",
    "            return x, self.loss(x, labels)\n",
    "        return x"
   ]
  },
  {
   "cell_type": "markdown",
   "id": "1517592e",
   "metadata": {},
   "source": [
    ">**NOTE:** The model inherits `self.training` from `torch.nn.Module` which initialises its value to True. \n",
    ">Use `model.eval()` to set it to False and `model.train()` to switch it back to True."
   ]
  },
  {
   "cell_type": "markdown",
   "id": "6211354b",
   "metadata": {},
   "source": [
    "Choose parameters. "
   ]
  },
  {
   "cell_type": "markdown",
   "id": "9b7e83b7",
   "metadata": {},
   "source": [
    ">**NOTE** If you wish to modify these parameters for educational purposes, make sure you re-run all the cells below\n",
    ">this one, including this entire cell as well:"
   ]
  },
  {
   "cell_type": "code",
   "execution_count": null,
   "id": "f910d29b",
   "metadata": {},
   "outputs": [],
   "source": [
    "# Cast the model parameters to FP16\n",
    "model_half = True\n",
    "\n",
    "# Cast the data to FP16\n",
    "data_half = True\n",
    "\n",
    "# Cast the accumulation of gradients values types of the optimiser to FP16\n",
    "optimizer_half = True\n",
    "\n",
    "# Use stochasting rounding\n",
    "stochastic_rounding = True\n",
    "\n",
    "# Set partials data type to FP16\n",
    "partials_half = True"
   ]
  },
  {
   "cell_type": "markdown",
   "id": "f11e0c07",
   "metadata": {},
   "source": [
    "### Casting a model's parameters\n",
    "\n",
    "The default data type of the parameters of a PyTorch module is FP32 (`torch.float32`). To convert all the parameters \n",
    "of a model to be represented in FP16 (`torch.float16`), an operation we will call _downcasting_, we simply do:"
   ]
  },
  {
   "cell_type": "code",
   "execution_count": null,
   "id": "245c7a9d",
   "metadata": {},
   "outputs": [],
   "source": [
    "model = CustomModel()\n",
    "\n",
    "if model_half:\n",
    "    model = model.half()"
   ]
  },
  {
   "cell_type": "markdown",
   "id": "32c373be",
   "metadata": {},
   "source": [
    "For this tutorial, we will cast all the model's parameters to FP16."
   ]
  },
  {
   "cell_type": "markdown",
   "id": "8aab4b62",
   "metadata": {},
   "source": [
    "### Casting a single layer's parameters\n",
    "\n",
    "For bigger or more complex models, downcasting all the layers may generate numerical instabilities and cause underflows. \n",
    "While the PopTorch and the IPU offer features to alleviate those issues, it is still sensible for those models to cast \n",
    "only the parameters of certain layers and observe how it affects the overall training job. To downcast the parameters of\n",
    " a single layer, we select the layer by its _name_ and use `half()`:"
   ]
  },
  {
   "cell_type": "code",
   "execution_count": null,
   "id": "f111b99f",
   "metadata": {},
   "outputs": [],
   "source": [
    "model.conv1 = model.conv1.half()"
   ]
  },
  {
   "cell_type": "markdown",
   "id": "7081baa9",
   "metadata": {},
   "source": [
    "If you would like to upcast a layer instead, you can use `model.conv1.float()`.\n",
    ">**NOTE**: One can print out a list of the components of a PyTorch model, with their names, by doing `print(model)`."
   ]
  },
  {
   "cell_type": "markdown",
   "id": "0b8d5973",
   "metadata": {},
   "source": [
    "## Prepare the data\n",
    "\n",
    "We will use the FashionMNIST dataset that we download from `torchvision`. The last stage of the pipeline will have to \n",
    "convert the data type of the tensors representing the images to `torch.half` (equivalent to `torch.float16`) so that \n",
    "our input data is also in FP16. This has the advantage of reducing the bandwidth needed between the host and the IPU."
   ]
  },
  {
   "cell_type": "code",
   "execution_count": null,
   "id": "89f2e64e",
   "metadata": {
    "tags": [
     "sst_hide_output"
    ]
   },
   "outputs": [],
   "source": [
    "if data_half:\n",
    "    transform = transforms.Compose([transforms.Resize(128),\n",
    "                                    transforms.ToTensor(),\n",
    "                                    transforms.Normalize((0.5,), (0.5,)),\n",
    "                                    transforms.ConvertImageDtype(torch.half)])\n",
    "else:\n",
    "    transform = transforms.Compose([transforms.Resize(128),\n",
    "                                    transforms.ToTensor(),\n",
    "                                    transforms.Normalize((0.5,), (0.5,))])\n",
    "\n",
    "train_dataset = torchvision.datasets.FashionMNIST(\"./datasets/\",\n",
    "                                                  transform=transform,\n",
    "                                                  download=True,\n",
    "                                                  train=True)\n",
    "test_dataset = torchvision.datasets.FashionMNIST(\"./datasets/\",\n",
    "                                                 transform=transform,\n",
    "                                                 download=True,\n",
    "                                                 train=False)"
   ]
  },
  {
   "cell_type": "markdown",
   "id": "b2172b56",
   "metadata": {},
   "source": [
    "If the model has not been converted to half precision, but the input data has, then some layers of the model may be \n",
    "converted to use FP16. Conversely, if the input data has not been converted, but the model has, then the input tensors \n",
    "will be converted to FP16 on the IPU. This behaviour is the opposite of PyTorch's default behaviour.\n",
    "\n",
    ">**NOTE**: To stop PopTorch automatically downcasting tensors and parameters, so that it preserves PyTorch's default \n",
    ">behaviour (upcasting), use the option:\n",
    ">`opts.Precision.halfFloatCasting(poptorch.HalfFloatCastingBehavior.HalfUpcastToFloat)`."
   ]
  },
  {
   "cell_type": "markdown",
   "id": "24c28ce9",
   "metadata": {},
   "source": [
    "## Optimizers and loss scaling\n",
    "\n",
    "The value of the loss scaling factor can be passed as a parameter to the optimisers in `poptorch.optim`. In this \n",
    "tutorial, we will set it to 1024 for an AdamW optimizer. For all optimisers (except `poptorch.optim.SGD`), using \n",
    "a model in FP16 requires the argument `accum_type` to be set to `torch.float16` as well:\n"
   ]
  },
  {
   "cell_type": "code",
   "execution_count": null,
   "id": "56fb68d6",
   "metadata": {},
   "outputs": [],
   "source": [
    "if optimizer_half:\n",
    "    optimizer = poptorch.optim.AdamW(model.parameters(),\n",
    "                                     lr=0.001,\n",
    "                                     loss_scaling=1024,\n",
    "                                     accum_type=torch.float16)\n",
    "else:\n",
    "    optimizer = poptorch.optim.AdamW(model.parameters(),\n",
    "                                     lr=0.001,\n",
    "                                     accum_type=torch.float32)"
   ]
  },
  {
   "cell_type": "markdown",
   "id": "9651baff",
   "metadata": {},
   "source": [
    "While higher values of `loss_scaling` minimize underflows, values that are too high can also generate overflows as well \n",
    "as hurt convergence of the loss. The optimal value depends on the model and the training job. \n",
    "This is therefore a hyperparameter for you to tune."
   ]
  },
  {
   "cell_type": "markdown",
   "id": "003f4194",
   "metadata": {},
   "source": [
    "## Set PopTorch's options\n",
    "\n",
    "To configure some features of the IPU and to be able to use PopTorch's classes in the next sections, we will need to \n",
    "create an instance of `poptorch.Options` which stores the options we will be using. \n",
    "We covered some of the available options in:\n",
    "[introductory tutorial for PopTorch](https://github.com/graphcore/examples/tree/master/tutorials/pytorch/tut1_basics).\n",
    "\n",
    "Let's initialise our options object before we talk about the options we will use:"
   ]
  },
  {
   "cell_type": "code",
   "execution_count": null,
   "id": "ac2cb5ac",
   "metadata": {},
   "outputs": [],
   "source": [
    "opts = poptorch.Options()"
   ]
  },
  {
   "cell_type": "markdown",
   "id": "6980ea8d",
   "metadata": {},
   "source": [
    ">**NOTE**: This tutorial has been designed to be run on a single IPU. If you do not have access to an IPU, you can use \n",
    ">the option [`useIpuModel`](https://docs.graphcore.ai/projects/poptorch-user-guide/en/latest/overview.html#poptorch.Options.useIpuModel) to run a simulation on CPU instead. \n",
    ">You can read more on the IPU Model and its limitations [here](https://docs.graphcore.ai/projects/poplar-user-guide/en/latest/poplar_programs.html#programming-with-poplar)."
   ]
  },
  {
   "cell_type": "markdown",
   "id": "acbfb70a",
   "metadata": {},
   "source": [
    "### Stochastic rounding\n",
    "\n",
    "With the IPU, stochastic rounding is implemented directly in the hardware and only requires you to enable it. \n",
    "To do so, there is the option `enableStochasticRounding` in the `Precision` namespace of `poptorch.Options`. \n",
    "This namespace holds other options for using mixed precision that we will talk about. \n",
    "To enable stochastic rounding, we do:"
   ]
  },
  {
   "cell_type": "code",
   "execution_count": null,
   "id": "0d0069a2",
   "metadata": {},
   "outputs": [],
   "source": [
    "if stochastic_rounding:\n",
    "    opts.Precision.enableStochasticRounding(True)"
   ]
  },
  {
   "cell_type": "markdown",
   "id": "16e87fe8",
   "metadata": {},
   "source": [
    "With the IPU Model, this option won't change anything since stochastic rounding is implemented on the IPU."
   ]
  },
  {
   "cell_type": "markdown",
   "id": "6c8fbd6d",
   "metadata": {},
   "source": [
    "### Partials data type\n",
    "\n",
    "Matrix multiplications and convolutions have intermediate states we call _partials_. Those partials can be stored \n",
    "in FP32 or FP16. There is a memory benefit to using FP16 partials but the main benefit is that it can increase \n",
    "the throughput for some models without affecting accuracy. However there is a risk of increasing numerical instability \n",
    "if the values being multiplied are small, due to underflows. The default data type of partials is the input's \n",
    "data type(FP16). For this tutorial, we set partials to FP32 just to showcase how it can be done. \n",
    "We use the option `setPartialsType` to do it:"
   ]
  },
  {
   "cell_type": "code",
   "execution_count": null,
   "id": "1d482da6",
   "metadata": {},
   "outputs": [],
   "source": [
    "if partials_half:\n",
    "    opts.Precision.setPartialsType(torch.half)\n",
    "else:\n",
    "    opts.Precision.setPartialsType(torch.float)"
   ]
  },
  {
   "cell_type": "markdown",
   "id": "6a2b5d50",
   "metadata": {},
   "source": [
    "## Train the model\n",
    "\n",
    "We can now train the model. After we have set all our options, we reuse our `poptorch.Options` instance for \n",
    "the training `poptorch.DataLoader` that we will be using:"
   ]
  },
  {
   "cell_type": "code",
   "execution_count": null,
   "id": "b53b908f",
   "metadata": {},
   "outputs": [],
   "source": [
    "train_dataloader = poptorch.DataLoader(opts,\n",
    "                                       train_dataset,\n",
    "                                       batch_size=12,\n",
    "                                       shuffle=True,\n",
    "                                       num_workers=40)"
   ]
  },
  {
   "cell_type": "markdown",
   "id": "24d7b05a",
   "metadata": {},
   "source": [
    "We first make sure our model is in training mode, and then wrap it with `poptorch.trainingModel`."
   ]
  },
  {
   "cell_type": "code",
   "execution_count": null,
   "id": "11a35e28",
   "metadata": {},
   "outputs": [],
   "source": [
    "poptorch_model = poptorch.trainingModel(model,\n",
    "                                        options=opts,\n",
    "                                        optimizer=optimizer)"
   ]
  },
  {
   "cell_type": "markdown",
   "id": "07f3af0d",
   "metadata": {},
   "source": [
    "Let's run the training loop for 10 epochs."
   ]
  },
  {
   "cell_type": "code",
   "execution_count": null,
   "id": "1733ea8d",
   "metadata": {
    "tags": [
     "sst_hide_output"
    ]
   },
   "outputs": [],
   "source": [
    "epochs = 10\n",
    "for epoch in tqdm(range(epochs), desc=\"epochs\"):\n",
    "    total_loss = 0.0\n",
    "    for data, labels in tqdm(train_dataloader, desc=\"batches\", leave=False):\n",
    "        output, loss = poptorch_model(data, labels)\n",
    "        total_loss += loss\n",
    "poptorch_model.detachFromDevice()"
   ]
  },
  {
   "cell_type": "markdown",
   "id": "d6c36555",
   "metadata": {},
   "source": [
    "Our new model is now trained and we can start its evaluation."
   ]
  },
  {
   "cell_type": "markdown",
   "id": "d540b032",
   "metadata": {},
   "source": [
    "## Evaluate the model\n",
    "\n",
    "Some PyTorch's operations, such as CNNs, are not supported in FP16 on the CPU, so we will evaluate our fine-tuned model \n",
    "in mixed precision on an IPU using `poptorch.inferenceModel`."
   ]
  },
  {
   "cell_type": "code",
   "execution_count": null,
   "id": "cbd95272",
   "metadata": {},
   "outputs": [],
   "source": [
    "model.eval()\n",
    "poptorch_model_inf = poptorch.inferenceModel(model, options=opts)\n",
    "test_dataloader = poptorch.DataLoader(opts,\n",
    "                                      test_dataset,\n",
    "                                      batch_size=32,\n",
    "                                      num_workers=40)"
   ]
  },
  {
   "cell_type": "markdown",
   "id": "2c67be04",
   "metadata": {},
   "source": [
    "Run inference on the labelled data"
   ]
  },
  {
   "cell_type": "code",
   "execution_count": null,
   "id": "dd186d6b",
   "metadata": {
    "tags": [
     "sst_hide_output"
    ]
   },
   "outputs": [],
   "source": [
    "predictions, labels = [], []\n",
    "for data, label in test_dataloader:\n",
    "    predictions += poptorch_model_inf(data).data.float().max(dim=1).indices\n",
    "    labels += label\n",
    "poptorch_model_inf.detachFromDevice()"
   ]
  },
  {
   "cell_type": "markdown",
   "id": "bfc2b7ac",
   "metadata": {},
   "source": [
    "We obtained an accuracy of approximately 84% on the test dataset."
   ]
  },
  {
   "cell_type": "code",
   "execution_count": null,
   "id": "a846b2de",
   "metadata": {},
   "outputs": [],
   "source": [
    "print(f\"\"\"Eval accuracy on IPU: {100 *\n",
    "                (1 - torch.count_nonzero(torch.sub(torch.tensor(labels),\n",
    "                torch.tensor(predictions))) / len(labels)):.2f}%\"\"\")"
   ]
  },
  {
   "cell_type": "markdown",
   "id": "79d4b959",
   "metadata": {},
   "source": [
    "# Visualise the memory footprint\n",
    "\n",
    "We can visually compare the memory footprint on the IPU of the model trained in FP16 and FP32, \n",
    "thanks to Graphcore's [PopVision Graph Analyser](https://docs.graphcore.ai/projects/graphcore-popvision-user-guide/en/latest/graph/graph.html).\n",
    "\n",
    "We generated memory reports of the same training session as covered in this tutorial for both cases: with and without \n",
    "downcasting the model with `model.half()`. Here is the figure of both memory footprints, where \"source\" and \"target\" \n",
    "represent the model trained in FP16 and FP32 respectively:\n",
    "\n",
    "![Comparison of memory footprints](static/MemoryDiffReport.png)\n",
    "\n",
    "We observed a ~26% reduction in memory usage with the settings of this tutorial, including from peak to peak. \n",
    "The impact on the accuracy was also small, with less than 1% lost!\n",
    "\n",
    "# Debug floating-point exceptions\n",
    "\n",
    "Floating-point issues can be difficult to debug because the model will simply appear to not be training without specific\n",
    " information about what went wrong. For more detailed information on the issue we set `debug.floatPointOpException` \n",
    " to true in the environment variable `POPLAR_ENGINE_OPTIONS`. To set this, you can add the folowing before the command \n",
    " you use to run your model:\n",
    "\n",
    "```python\n",
    "POPLAR_ENGINE_OPTIONS='{\"debug.floatPointOpException\": \"true\"}'\n",
    "```"
   ]
  },
  {
   "cell_type": "markdown",
   "id": "80386bb3",
   "metadata": {},
   "source": [
    "# PopTorch tracing and casting\n",
    "\n",
    "Because PopTorch relies on the `torch.jit.trace` API, it is limited to tracing operations which run on the CPU. \n",
    "Many of these operations do not support FP16 inputs due to numerical stability issues. \n",
    "To allow the full range of operations, PopTorch converts all FP16 inputs to FP32 before tracing and then restores \n",
    "them to FP16. This is because the model must always be traced with FP16 inputs converted to FP32.\n",
    "\n",
    "PopTorch’s default casting functionality is to output in FP16 if any input of the operation is FP16. \n",
    "This is opposite to PyTorch, which outputs in FP32 if any input of the operations is in FP32. \n",
    "To achieve the same behaviour in PopTorch, one can use:\n",
    "`opts.Precision.halfFloatCasting(poptorch.HalfFloatCastingBehavior.HalfUpcastToFloat)`.\n",
    "Below you can see the difference between native PyTorch and PopTorch (with and without the option mentioned above):\n"
   ]
  },
  {
   "cell_type": "code",
   "execution_count": null,
   "id": "58fa4210",
   "metadata": {},
   "outputs": [],
   "source": [
    "class Model(torch.nn.Module):\n",
    "    def forward(self, x, y):\n",
    "        return x + y\n",
    "\n",
    "native_model = Model()\n",
    "\n",
    "float16_tensor = torch.tensor([1.0], dtype=torch.float16)\n",
    "float32_tensor = torch.tensor([1.0], dtype=torch.float32)\n",
    "\n",
    "# Native PyTorch results in a FP32 tensor\n",
    "assert native_model(float32_tensor, float16_tensor).dtype == torch.float32\n",
    "\n",
    "opts = poptorch.Options()\n",
    "\n",
    "# PopTorch results in a FP16 tensor\n",
    "poptorch_model = poptorch.inferenceModel(native_model, opts)\n",
    "assert poptorch_model(float32_tensor, float16_tensor).dtype == torch.float16\n",
    "\n",
    "opts.Precision.halfFloatCasting(\n",
    "    poptorch.HalfFloatCastingBehavior.HalfUpcastToFloat)\n",
    "\n",
    "# The option above makes the same PopTorch example result in an FP32 tensor\n",
    "poptorch_model = poptorch.inferenceModel(native_model, opts)\n",
    "assert poptorch_model(float32_tensor, float16_tensor).dtype == torch.float32"
   ]
  },
  {
   "cell_type": "markdown",
   "id": "2c1942c5",
   "metadata": {},
   "source": [
    "# Summary\n",
    "- Use half and mixed precision when you need to save memory on the IPU.\n",
    "- You can cast a PyTorch model or a specific layer to FP16 using:\n",
    "    ```python\n",
    "    # Model\n",
    "    model.half()\n",
    "    # Layer\n",
    "    model.layer.half()\n",
    "    ```\n",
    "- Several features are available in PopTorch to improve the numerical stability of a model in FP16:\n",
    "    - Loss scaling: `poptorch.optim.SGD(..., loss_scaling=1000)`\n",
    "    - Stochastic rounding: `opts.Precision.enableStochasticRounding(True)`\n",
    "    - Upcast partials data types: `opts.Precision.setPartialsType(torch.float)`\n",
    "- The [PopVision Graph Analyser](https://docs.graphcore.ai/projects/graphcore-popvision-user-guide/en/latest/graph/graph.html) can be used to inspect the memory usage of a model and to help debug issues.\n"
   ]
  },
  {
   "cell_type": "code",
   "execution_count": null,
   "id": "94f443f2",
   "metadata": {},
   "outputs": [],
   "source": []
  }
 ],
 "metadata": {
  "kernelspec": {
   "display_name": "Python 3",
   "language": "python",
   "name": "python3"
  },
  "language_info": {
   "codemirror_mode": {
    "name": "ipython",
    "version": 3
   },
   "file_extension": ".py",
   "mimetype": "text/x-python",
   "name": "python",
   "nbconvert_exporter": "python",
   "pygments_lexer": "ipython3",
   "version": "3.6.9"
  }
 },
 "nbformat": 4,
 "nbformat_minor": 5
}
