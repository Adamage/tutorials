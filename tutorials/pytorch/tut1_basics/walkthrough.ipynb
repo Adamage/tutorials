{
 "cells": [
  {
   "cell_type": "markdown",
   "id": "be9a850b",
   "metadata": {},
   "source": [
    "Copyright (c) 2020 Graphcore Ltd. All rights reserved."
   ]
  },
  {
   "cell_type": "markdown",
   "id": "24b717d1",
   "metadata": {},
   "source": [
    "# Introduction to PopTorch - running a simple model\n",
    "\n",
    "This tutorial covers the basics of model making in PyTorch,\n",
    "using `torch.nn.Module`, and the specific methods to\n",
    "convert a PyTorch model to a PopTorch model so that it can\n",
    "be run on a Graphcore IPU."
   ]
  },
  {
   "cell_type": "markdown",
   "id": "f30d45e9",
   "metadata": {},
   "source": [
    "Requirements:\n",
    "- an installed Poplar SDK. See the Getting Started guide\n",
    " for your IPU hardware for details of how to install\n",
    " the SDK;\n",
    "- Python packages with `pip install -r requirements.txt`"
   ]
  },
  {
   "cell_type": "markdown",
   "id": "ff5a9089",
   "metadata": {},
   "source": [
    "## What is PopTorch?\n",
    "PopTorch is a set of extensions for PyTorch to enable\n",
    "PyTorch models to run on Graphcore's IPU hardware.\n",
    "\n",
    "PopTorch supports both inference and training. To run a\n",
    "model on the IPU you wrap your existing PyTorch model in\n",
    "either a PopTorch inference wrapper or a PopTorch training\n",
    "wrapper. You can provide further annotations to partition\n",
    "the model across multiple IPUs.\n",
    "\n",
    "You can wrap individual layers in an IPU helper to\n",
    "designate which IPU they should go on. Using your\n",
    "annotations, PopTorch will use [PopART]\n",
    "(https://docs.graphcore.ai/projects/popart-user-guide)\n",
    "to parallelise the model over the given number of IPUs.\n",
    "Additional parallelism can be expressed via a replication\n",
    "factor which enables you to data-parallelise the model over\n",
    "more IPUs.\n",
    "\n",
    "Under the hood PopTorch uses [TorchScript](https://pytorch.org/docs/stable/jit.html),\n",
    "an intermediate representation (IR) of a PyTorch model,\n",
    "using the `torch.jit.# trace` API. That means it inherits\n",
    "the constraints of that API. These include:\n",
    "- Inputs must be Torch tensors or tuples/lists containing Torch tensors;\n",
    "- None can be used as a default value for a parameter but cannot be\n",
    "expliticly passed as an input value;\n",
    "- Hooks and `.grad` cannot be used to inspect weights and gradients;\n",
    "- `torch.jit.trace` cannot handle control flow or shape\n",
    "variations within the model. That is, the inputs passed at\n",
    "run-time cannot vary the control flow of the model or the\n",
    "shapes/sizes of results.\n",
    "\n",
    "To learn more about TorchScript and JIT, you can go through\n",
    "this [tutorial](https://pytorch.org/tutorials/beginner/Intro_to_TorchScript_tutorial.html).\n",
    "\n",
    "PopTorch has been designed to require few manual\n",
    "alterations to your models in order to run them on IPU.\n",
    "However, it does have some differences from native PyTorch\n",
    "execution. Also, not all PyTorch operations have been\n",
    "implemented by the backend yet. You can find the list of\n",
    "supported operations [here](https://docs.graphcore.ai/projects/poptorch-user-guide/en/latest supported_ops.html).\n",
    "\n",
    "![Software stack](static/stack.jpg)"
   ]
  },
  {
   "cell_type": "markdown",
   "id": "5c392a2c",
   "metadata": {},
   "source": [
    "# Getting started: training a model on the IPU\n",
    "We will do the following steps in order:\n",
    "1. Load the Fashion-MNIST dataset using `torchvision.datasets` and `poptorch.\n",
    "DataLoader`\n",
    "2. Define a deep CNN  and a loss function using the `torch` API\n",
    "3. Train the model on an IPU using `poptorch.trainingModel`\n",
    "4. Evaluate the model on the IPU"
   ]
  },
  {
   "cell_type": "markdown",
   "id": "f0efe039",
   "metadata": {},
   "source": [
    "### Import the packages\n",
    "PopTorch is a separate package from PyTorch, and available\n",
    "in Graphcore's Poplar SDK. Both must thus be imported:"
   ]
  },
  {
   "cell_type": "code",
   "execution_count": null,
   "id": "0a4425d5",
   "metadata": {},
   "outputs": [],
   "source": [
    "import torch\n",
    "import poptorch\n",
    "import torchvision\n",
    "import torch.nn as nn\n",
    "import matplotlib.pyplot as plt\n",
    "from tqdm import tqdm"
   ]
  },
  {
   "cell_type": "markdown",
   "id": "c1bad0a4",
   "metadata": {},
   "source": [
    "Under the hood, PopTorch uses Graphcore's high-performance\n",
    "machine learning framework PopART. It is therefore necessary\n",
    "to enable PopART and Poplar in your environment."
   ]
  },
  {
   "cell_type": "markdown",
   "id": "ceb3c194",
   "metadata": {},
   "source": [
    ">**NOTE**:\n",
    ">If you forget PopART, you will encounter the error\n",
    ">`ImportError: libpopart.so: cannot open shared object file: No such file or\n",
    ">directory` when importing `poptorch`.\n",
    ">If the error message says something like `libpopart_compiler.so: undefined\n",
    ">symbol: _ZN6popart7Session3runERNS_7IStepIOE`, it most likely means the\n",
    ">versions of PopART and PopTorch do not match, for example by enabling PopART\n",
    ">with a previous SDK release's `enable.sh` script. Make sure to not mix SDK's\n",
    ">artifacts."
   ]
  },
  {
   "cell_type": "markdown",
   "id": "767406d6",
   "metadata": {},
   "source": [
    "### Load the data\n",
    "We will use the Fashion-MNIST dataset made available by the package\n",
    "`torchivsion`. This dataset, from [Zalando](https://github.com/zalandoresearch/fashion-mnist),\n",
    "can be used as a more challenging replacement to the well-known MNIST dataset."
   ]
  },
  {
   "cell_type": "markdown",
   "id": "677e4685",
   "metadata": {},
   "source": [
    "The dataset consists of 28x28 grayscale images and labels of range \\[0, 9]\n",
    "from 10 classes: T-shirt, trouser, pullover, dress, coat, sandal, shirt,\n",
    "sneaker, bag and ankle boot."
   ]
  },
  {
   "cell_type": "markdown",
   "id": "bcddcb0c",
   "metadata": {},
   "source": [
    "In order for the images to be usable by PyTorch, we have to convert them to\n",
    "`torch.Tensor` objects. Also, data normalisation improves overall\n",
    "performance. We will apply both operations, conversion and normalisation, to\n",
    "the datasets using `torchvision.transforms` and feed these ops to\n",
    "`torchvision.datasets`:"
   ]
  },
  {
   "cell_type": "code",
   "execution_count": null,
   "id": "0d742063",
   "metadata": {
    "tags": [
     "sst_hide_output"
    ]
   },
   "outputs": [],
   "source": [
    "transform = torchvision.transforms.Compose([\n",
    "    torchvision.transforms.ToTensor(),\n",
    "    torchvision.transforms.Normalize((0.5,), (0.5,))])\n",
    "\n",
    "train_dataset = torchvision.datasets.FashionMNIST(\"./datasets/\", transform=transform, download=True, train=True)\n",
    "test_dataset = torchvision.datasets.FashionMNIST(\"./datasets/\", transform=transform, download=True, train=False)\n",
    "classes = (\"T-shirt\", \"Trouser\", \"Pullover\", \"Dress\", \"Coat\", \"Sandal\", \"Shirt\", \"Sneaker\", \"Bag\", \"Ankle boot\")"
   ]
  },
  {
   "cell_type": "markdown",
   "id": "d0b329c0",
   "metadata": {},
   "source": [
    "With the following method, we can visualise a sample of these images and\n",
    "their associated labels:"
   ]
  },
  {
   "cell_type": "code",
   "execution_count": null,
   "id": "37a4d303",
   "metadata": {},
   "outputs": [],
   "source": [
    "plt.figure(figsize=(30, 15))\n",
    "for i, (image, label) in enumerate(train_dataset):\n",
    "    if i == 15:\n",
    "        break\n",
    "    image = (image / 2 + .5).numpy()  # reverse transformation\n",
    "    ax = plt.subplot(5, 5, i + 1)\n",
    "    ax.set_title(classes[label])\n",
    "    plt.imshow(image[0])"
   ]
  },
  {
   "cell_type": "markdown",
   "id": "6f8abeae",
   "metadata": {},
   "source": [
    "##### PopTorch DataLoader\n",
    "We can feed batches of data into a PyTorch model by simply passing the input\n",
    "tensors. However, this is unlikely to be the most efficient way and can\n",
    "result in data loading being a bottleneck to the model, slowing down the\n",
    "training process. In order to make data loading easier and more efficient,\n",
    "there's the [`torch.utils.data.DataLoader`](https://pytorch.org/docs/stable/data.html)\n",
    "class, which is an iterable over a dataset and which can handle parallel data\n",
    "loading, a sampling strategy, shuffling, etc."
   ]
  },
  {
   "cell_type": "markdown",
   "id": "7f0d5207",
   "metadata": {},
   "source": [
    "PopTorch offers an extension of this class with its [`poptorch.DataLoader`]\n",
    "(https://docs.graphcore.ai/projects/poptorch-user-guide/en/latest/batching.html#poptorch-dataloader)\n",
    "class, specialised for the way the underlying PopART framework handles\n",
    "batching of data. We will use this class later in the tutorial, as soon as we\n",
    "have a model ready for training."
   ]
  },
  {
   "cell_type": "markdown",
   "id": "48b556be",
   "metadata": {},
   "source": [
    "### Build the model\n",
    "We will build a simple CNN model for a classification task. To do so, we can\n",
    "simply use PyTorch's API, including `torch.nn.Module`. The difference from\n",
    "what we're used to with pure PyTorch is the _loss computation_, which has to\n",
    "be part of the `forward` function. This is to ensure the loss is computed on\n",
    "the IPU and not on the CPU, and to give us as much flexibility as possible\n",
    "when designing more complex loss functions."
   ]
  },
  {
   "cell_type": "code",
   "execution_count": null,
   "id": "b20fa4a0",
   "metadata": {},
   "outputs": [],
   "source": [
    "class ClassificationModel(nn.Module):\n",
    "    def __init__(self):\n",
    "        super().__init__()\n",
    "        self.conv1 = nn.Conv2d(1, 5, 3)\n",
    "        self.pool = nn.MaxPool2d(2, 2)\n",
    "        self.conv2 = nn.Conv2d(5, 12, 5)\n",
    "        self.norm = nn.GroupNorm(3, 12)\n",
    "        self.fc1 = nn.Linear(972, 100)\n",
    "        self.relu = nn.ReLU()\n",
    "        self.fc2 = nn.Linear(100, 10)\n",
    "        self.log_softmax = nn.LogSoftmax(dim=0)\n",
    "        self.loss = nn.NLLLoss()\n",
    "        \n",
    "    def forward(self, x, labels=None):\n",
    "        x = self.pool(self.relu(self.conv1(x)))\n",
    "        x = self.norm(self.relu(self.conv2(x)))\n",
    "        x = torch.flatten(x, start_dim=1)\n",
    "        x = self.relu(self.fc1(x))\n",
    "        x = self.log_softmax(self.fc2(x))\n",
    "        # The model is responsible for the calculation\n",
    "        # of the loss when using an IPU. We do it this way:\n",
    "        if self.training:\n",
    "            return x, self.loss(x, labels)\n",
    "        return x\n",
    "\n",
    "model = ClassificationModel()"
   ]
  },
  {
   "cell_type": "markdown",
   "id": "3c781162",
   "metadata": {},
   "source": [
    ">**NOTE**: `self.training` is inherited from `torch.nn.Module` which\n",
    ">initialises its value to `True`. Use `model.eval()` to set it to `False` and\n",
    ">`model.train()` to switch it back to `True`."
   ]
  },
  {
   "cell_type": "markdown",
   "id": "dc90603c",
   "metadata": {},
   "source": [
    "### Prepare training for IPUs\n",
    "The compilation and execution on the IPU can be controlled using `poptorch.\n",
    "Options`. These options are used by PopTorch's wrappers such as `poptorch.\n",
    "DataLoader` and `poptorch.trainingModel`."
   ]
  },
  {
   "cell_type": "code",
   "execution_count": null,
   "id": "bc53c042",
   "metadata": {},
   "outputs": [],
   "source": [
    "opts = poptorch.Options()\n",
    "\n",
    "train_dataloader = poptorch.DataLoader(opts, train_dataset, batch_size=16, shuffle=True, num_workers=20)"
   ]
  },
  {
   "cell_type": "markdown",
   "id": "ab40234e",
   "metadata": {},
   "source": [
    "### Train the model\n",
    "We will need another component in order to train our model: an optimiser.\n",
    "Its role is to apply the computed gradients to the model's weights to optimize\n",
    "(usually, minimize) the loss function using a specific algorithm. PopTorch\n",
    "currently provides classes which inherit from multiple native PyTorch optimisation\n",
    "functions: SGD, Adam, AdamW, LAMB and RMSprop. These optimisers provide several\n",
    "advantages over native PyTorch versions. They embed constant attributes to save\n",
    "performance and memory, and allow you to specify additional parameters such as\n",
    "loss/velocity scaling."
   ]
  },
  {
   "cell_type": "markdown",
   "id": "da18a760",
   "metadata": {},
   "source": [
    "We will use SGD (https://docs.graphcore.ai/projects/poptorch-user-guide/en/latest/reference.html#poptorch.optim.SGD)\n",
    "as it's a very popular algorithm and is appropriate for this classification task."
   ]
  },
  {
   "cell_type": "code",
   "execution_count": null,
   "id": "bfdd5819",
   "metadata": {
    "tags": [
     "sst_hide_output"
    ]
   },
   "outputs": [],
   "source": [
    "optimizer = poptorch.optim.SGD(model.parameters(), lr=0.001, momentum=0.9)"
   ]
  },
  {
   "cell_type": "markdown",
   "id": "535910d7",
   "metadata": {},
   "source": [
    "We now introduce the `poptorch.trainingModel` wrapper, which will handle the\n",
    "training. It takes an instance of a `torch.nn.Module`, such as our custom\n",
    "model, an instance of `poptorch.Options` which we have instantiated\n",
    "previously, and an optimizer. This wrapper will trigger the compilation of\n",
    "our model, using TorchScript, and manage its translation to a program the\n",
    "IPU can run. Let's use it."
   ]
  },
  {
   "cell_type": "code",
   "execution_count": null,
   "id": "73660ef2",
   "metadata": {},
   "outputs": [],
   "source": [
    "poptorch_model = poptorch.trainingModel(model, options=opts, optimizer=optimizer)"
   ]
  },
  {
   "cell_type": "markdown",
   "id": "a62b2506",
   "metadata": {},
   "source": [
    "#### Training loop\n",
    "Looping through the training data, running the forward and backward passes,\n",
    "and updating the weights constitute the process we refer to as the \"training loop\".\n",
    "Graphcore's Poplar system uses several optimisations to accelerate the\n",
    "training loop. Central to this is the desire to minimise interactions between\n",
    "the device (the IPU) and the host (the CPU), allowing the training loop to\n",
    "run on the device independently from the host. To achieve that virtual\n",
    "independence, Poplar creates a _static_ computational graph and data streams\n",
    "which are loaded to the IPU, and then signals the IPU to get started until\n",
    "there's no data left or until the host sends a signal to stop the loop.\n",
    "\n",
    "![High-level overview of what happens](static/loop.jpg)"
   ]
  },
  {
   "cell_type": "markdown",
   "id": "38dc9b88",
   "metadata": {},
   "source": [
    "The compilation, which transforms our PyTorch model into a computational\n",
    "graph and our dataloader into data streams, happens at the first call of a\n",
    "`poptorch.trainingModel`. The IPUs to which the graph will be uploaded are\n",
    "selected automatically during this first call, by default. The training loop can\n",
    "then start."
   ]
  },
  {
   "cell_type": "markdown",
   "id": "a7b56483",
   "metadata": {},
   "source": [
    "Once the loop has started, Poplar's main task is to feed the data into the\n",
    "streams and to signal when we are done with the loop. The last step will then\n",
    "be to copy the final graph, meaning the model, back to the CPU - a step that\n",
    "PopTorch manages itself."
   ]
  },
  {
   "cell_type": "code",
   "execution_count": null,
   "id": "f4643e53",
   "metadata": {
    "tags": [
     "sst_hide_output"
    ]
   },
   "outputs": [],
   "source": [
    "epochs = 30\n",
    "for epoch in tqdm(range(epochs), desc=\"epochs\"):\n",
    "    total_loss = 0.0\n",
    "    for data, labels in tqdm(train_dataloader, desc=\"batches\", leave=False):\n",
    "        output, loss = poptorch_model(data, labels)\n",
    "        total_loss += loss"
   ]
  },
  {
   "cell_type": "markdown",
   "id": "1fa3e2c2",
   "metadata": {},
   "source": [
    "The model is now trained! There's no need to retrieve the weights from the\n",
    "device as you would by calling `model.cpu()` with PyTorch. PopTorch has\n",
    "managed that step for us. We can now save and evaluate the model."
   ]
  },
  {
   "cell_type": "markdown",
   "id": "d7d5102a",
   "metadata": {},
   "source": [
    "#### Use the same IPU for training and inference\n",
    "After the model has been attached to the IPU and compiled after the first call\n",
    "to the PopTorch model, it can be detached from the device. This allows PopTorch\n",
    "to use a single device for training and inference (described below), rather\n",
    "than using 2 IPUs (one for training and one for inference) when the device\n",
    "is not detached. When using an IPU-POD system, detaching from the device will\n",
    "be necessary when using a non-reconfigurable partition."
   ]
  },
  {
   "cell_type": "code",
   "execution_count": null,
   "id": "12161f8b",
   "metadata": {},
   "outputs": [],
   "source": [
    "poptorch_model.detachFromDevice()"
   ]
  },
  {
   "cell_type": "markdown",
   "id": "7a8312d3",
   "metadata": {},
   "source": [
    "#### Save the trained model\n",
    "We can simply use PyTorch's API to save a model in a file, with the original\n",
    "instance of `ClassificationModel` and not the wrapped model."
   ]
  },
  {
   "cell_type": "code",
   "execution_count": null,
   "id": "d59f5287",
   "metadata": {},
   "outputs": [],
   "source": [
    "torch.save(model.state_dict(), \"classifier.pth\")"
   ]
  },
  {
   "cell_type": "markdown",
   "id": "1febc347",
   "metadata": {},
   "source": [
    "### Evaluate the model\n",
    "Since we have detached our model from it's training from it's training device,\n",
    "the device is now free again and we can use it for the evaluation stage,\n",
    "instead of using the CPU. It is a good idea to use an IPU when evaluating your\n",
    "model on a CPU is slow - be it because the test dataset is large and/or the model\n",
    "is complex - since IPUs are blazing [fast](https://www.graphcore.ai/posts/new-graphcore-ipu-benchmarks)."
   ]
  },
  {
   "cell_type": "markdown",
   "id": "7d6aae70",
   "metadata": {},
   "source": [
    "The steps taken below to define the model for evaluation essentially allow it\n",
    "to run in inference mode. Therefore, you can follow the same steps to use\n",
    "the model to make predictions once it has been deployed."
   ]
  },
  {
   "cell_type": "markdown",
   "id": "70a9a9ee",
   "metadata": {},
   "source": [
    "For this, it is first essential to switch the model to evaluation mode. This\n",
    "step is realised as usual."
   ]
  },
  {
   "cell_type": "code",
   "execution_count": null,
   "id": "49361e7e",
   "metadata": {},
   "outputs": [],
   "source": [
    "model = model.eval()"
   ]
  },
  {
   "cell_type": "markdown",
   "id": "42a5f298",
   "metadata": {},
   "source": [
    "To evaluate the model on the IPU, we will use the `poptorch.inferenceModel`\n",
    "class, which has a similar API to `poptorch.trainingModel` except that it\n",
    "doesn't need an optimizer, allowing evaluation of the model without calculating\n",
    "gradients."
   ]
  },
  {
   "cell_type": "code",
   "execution_count": null,
   "id": "4b692bfe",
   "metadata": {},
   "outputs": [],
   "source": [
    "poptorch_model_inf = poptorch.inferenceModel(model, options=opts)"
   ]
  },
  {
   "cell_type": "markdown",
   "id": "255cb090",
   "metadata": {},
   "source": [
    "Then we can instantiate a new PopTorch dataloader object as before in order to\n",
    "efficiently batch our test dataset."
   ]
  },
  {
   "cell_type": "code",
   "execution_count": null,
   "id": "61c52112",
   "metadata": {},
   "outputs": [],
   "source": [
    "test_dataloader = poptorch.DataLoader(opts, test_dataset, batch_size=32, num_workers=10)"
   ]
  },
  {
   "cell_type": "markdown",
   "id": "cfa13835",
   "metadata": {},
   "source": [
    "This short loop over the test dataset is effectively all that is needed to\n",
    "run the model and generate some predictions. When running the model in\n",
    "inference, we can stop here and use the predictions as needed."
   ]
  },
  {
   "cell_type": "markdown",
   "id": "be70c833",
   "metadata": {},
   "source": [
    "For evaluation, we can use `scikit-learn`'s standard classification metrics to\n",
    "understand how well our model is performing. This usually takes a list of labels\n",
    "and a list of predictions as the input, both in the same order. Let's make both\n",
    "lists, and run our model in inference mode."
   ]
  },
  {
   "cell_type": "code",
   "execution_count": null,
   "id": "09d343a6",
   "metadata": {
    "tags": [
     "sst_hide_output"
    ]
   },
   "outputs": [],
   "source": [
    "predictions, labels = [], []\n",
    "for data, label in test_dataloader:\n",
    "    predictions += poptorch_model_inf(data).data.max(dim=1).indices\n",
    "    labels += label"
   ]
  },
  {
   "cell_type": "markdown",
   "id": "f109c60a",
   "metadata": {},
   "source": [
    "A simple and widely-used performance metric for classification models is the\n",
    "accuracy score, which simply counts how many predictions were right. But this\n",
    "metric alone isn't enough. For example, it doesn't tell us how the model\n",
    "performs with regard to the different classes in our data. We will therefore\n",
    "use another popular metric: a confusion matrix, which tells how much our\n",
    "model confuses a class for another."
   ]
  },
  {
   "cell_type": "code",
   "execution_count": null,
   "id": "f07d4bbd",
   "metadata": {},
   "outputs": [],
   "source": [
    "from sklearn.metrics import accuracy_score, confusion_matrix, ConfusionMatrixDisplay\n",
    "print(f\"Eval accuracy: {100 * accuracy_score(labels, predictions):.2f}%\")\n",
    "cm = confusion_matrix(labels, predictions)\n",
    "cm_plot = ConfusionMatrixDisplay(cm, display_labels=classes).plot(xticks_rotation='vertical')"
   ]
  },
  {
   "cell_type": "markdown",
   "id": "cea419cd",
   "metadata": {},
   "source": [
    "As you can see, although we've got an accuracy score of ~88%, the model's\n",
    "performance across the different classes isn't equal. Trousers are very well\n",
    "classified, with more than 96-97% accuracy whereas shirts are harder to\n",
    "classify with less than 60% accuracy, and it seems they often get confused\n",
    "with T-shirts, pullovers and coats. So, some work is still required here to\n",
    "improve your model for all the classes!"
   ]
  },
  {
   "cell_type": "markdown",
   "id": "c0a23fba",
   "metadata": {},
   "source": [
    "We can save this visualisation of the confusion matrix."
   ]
  },
  {
   "cell_type": "code",
   "execution_count": null,
   "id": "1a765b9e",
   "metadata": {},
   "outputs": [],
   "source": [
    "cm_plot.figure_.savefig(\"confusion_matrix.png\")"
   ]
  },
  {
   "cell_type": "markdown",
   "id": "6db0fa69",
   "metadata": {},
   "source": [
    "# Doing more with `poptorch.Options`\n",
    "This class encapsulates the options that PopTorch and PopART will use\n",
    "alongside our model. Some concepts, such as \"batch per iteration\" are\n",
    "specific to the functioning of the IPU, and within this class some\n",
    "calculations are made to reduce risks of errors and make it easier for\n",
    "PyTorch users to use IPUs."
   ]
  },
  {
   "cell_type": "markdown",
   "id": "08096dcb",
   "metadata": {},
   "source": [
    "The list of these options is available in the [documentation](https://docs.graphcore.ai/projects/poptorch-user-guide/en/latest/overview.html#options).\n",
    "Let's introduce here 4 of these options to get an idea of what they cover."
   ]
  },
  {
   "cell_type": "markdown",
   "id": "c0e6cb9a",
   "metadata": {},
   "source": [
    "### `deviceIterations`\n",
    "Remember the training loop we have discussed previously. A device iteration\n",
    "is one cycle of that loop, which runs entirely on the IPU (the device), and\n",
    "which starts with a new batch of data. This option specifies the number of\n",
    "batches that is prepared by the host (CPU) for the IPU. The higher this\n",
    "number, the less the IPU has to interact with the CPU, for example to request\n",
    "and wait for data, so that the IPU can loop faster. However, the user will\n",
    "have to wait for the IPU to go over all the iterations before getting the\n",
    "results back. The maximum is the total number of batches in your dataset, and\n",
    "the default value is 1."
   ]
  },
  {
   "cell_type": "markdown",
   "id": "5c338af1",
   "metadata": {},
   "source": [
    "### `replicationFactor`\n",
    "This is the number of replicas of a model. A replica is a copy of a same\n",
    "model on multiple devices. We use replicas as an implementation of data\n",
    "parallelism, where a same model is served with several batches of data at the\n",
    "same time but on different devices, so that the gradients can be pooled. To\n",
    "achieve the same behaviour in pure PyTorch, you'd wrap your model with `torch.\n",
    "nn.DataParallel`, but with PopTorch, this is an option. Of course, each\n",
    "replica requires one IPU. So, if the `replictionFactor` is two, two IPUs are\n",
    "required."
   ]
  },
  {
   "cell_type": "markdown",
   "id": "2d38f3c5",
   "metadata": {},
   "source": [
    "### `randomSeed`\n",
    "The IPU has a different, on-device pseudo-random number generator (PRNG).\n",
    "This option sets the seed for the PRNG on the IPU. This is equivalent to\n",
    "using `torch.seed`."
   ]
  },
  {
   "cell_type": "markdown",
   "id": "696ae994",
   "metadata": {},
   "source": [
    "### `useIpuModel`\n",
    "An IPU Model is a simulation, running on a CPU, of an actual IPU. This can be\n",
    "helpful if you're working in an environment where no IPUs are available but\n",
    "still need to make progress on your code. However, the IPU Model doesn't\n",
    "fully support replicated graphs and its numerical results can be slightly\n",
    "different from what you would get with an actual IPU. You can learn more\n",
    "about the IPU Model and its limitations with our [documentation]\n",
    "(https://docs.graphcore.ai/projects/poplar-user-guide/en/latest/poplar_programs.html?highlight=ipu%20model#programming-with-poplar)."
   ]
  },
  {
   "cell_type": "markdown",
   "id": "1a446006",
   "metadata": {},
   "source": [
    "## How to set the options\n",
    "These options are callable, and chainable as they return the instance. One\n",
    "can therefore do as follows:"
   ]
  },
  {
   "cell_type": "code",
   "execution_count": null,
   "id": "c8c1a84d",
   "metadata": {},
   "outputs": [],
   "source": [
    "opts = poptorch.Options().deviceIterations(20).replicationFactor(2).randomSeed(123).useIpuModel(True)"
   ]
  },
  {
   "cell_type": "markdown",
   "id": "ef4f0474",
   "metadata": {},
   "source": [
    "# Going further"
   ]
  },
  {
   "cell_type": "markdown",
   "id": "c6bffeb0",
   "metadata": {},
   "source": [
    "Other tutorials will be made available in the future to explore more advanced\n",
    "features and use cases for PopTorch. Make sure you've subscribed to our\n",
    "newsletter to stay up to date."
   ]
  },
  {
   "cell_type": "markdown",
   "id": "46c85da4",
   "metadata": {},
   "source": [
    "In the meantime, to learn more about the IPU and the lower level Poplar\n",
    "libraries and graph programming framework, you can go through our Poplar\n",
    "tutorials and read our Poplar SDK overview."
   ]
  }
 ],
 "metadata": {},
 "nbformat": 4,
 "nbformat_minor": 5
}