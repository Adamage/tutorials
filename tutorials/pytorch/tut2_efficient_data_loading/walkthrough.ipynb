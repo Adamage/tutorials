{
 "cells": [
  {
   "cell_type": "markdown",
   "id": "d2c0aefc",
   "metadata": {},
   "source": [
    "Copyright (c) 2021 Graphcore Ltd. All rights reserved."
   ]
  },
  {
   "cell_type": "markdown",
   "id": "c757732d",
   "metadata": {},
   "source": [
    "# Efficient data loading with PopTorch"
   ]
  },
  {
   "cell_type": "markdown",
   "id": "65885a04",
   "metadata": {},
   "source": [
    "This tutorial will present how PopTorch could help to efficiently load data to \n",
    "your model and how to avoid common sources of performance loss from the host. \n",
    "This will also cover the more general notion of batching on IPUs that is also \n",
    "relevant to other frameworks."
   ]
  },
  {
   "cell_type": "markdown",
   "id": "63409cda",
   "metadata": {},
   "source": [
    "Requirements:\n",
    "   - A Poplar SDK environment enabled  (see the [Getting Started](https://docs.graphcore.ai/en/latest/software.html#getting-started) \n",
    "   guide for your IPU system)\n",
    "   - The PopTorch Python library installed\n",
    "   - `pip install torchvision`"
   ]
  },
  {
   "cell_type": "markdown",
   "id": "e5180cf0",
   "metadata": {},
   "source": [
    "##\tPyTorch and PopTorch DataLoader"
   ]
  },
  {
   "cell_type": "markdown",
   "id": "e40d10b8",
   "metadata": {},
   "source": [
    "If you are familiar with PyTorch you may have used [torch.utils.data.DataLoader](https://pytorch.org/docs/stable/data.html#torch.utils.data.DataLoader).\n",
    "\n",
    "PopTorch provides [its own DataLoader](https://docs.graphcore.ai/projects/poptorch-user-guide/en/latest/batching.html#poptorch-dataloader) \n",
    "which is a wrapper around `torch.utils.data.DataLoader`.  \n",
    "It accepts the same arguments as PyTorch's DataLoader with some extra features \n",
    "specific to the IPU:\n",
    "- It takes a `poptorch.Options` instance to use IPU-specific features.\n",
    "- It automatically computes the number of elements consumed by \n",
    "[one step](#how-many-samples-will-then-be-loaded-in-one-step).\n",
    "- It enables asynchronous data loading.\n",
    "See the [documentation](https://docs.graphcore.ai/projects/poptorch-user-guide/en/latest/batching.html#poptorch-asynchronousdataaccessor)\n",
    "about asynchronous mode.\n",
    "\n",
    "Let’s load the same model as in [the introductory tutorial on PopTorch](../tut1_basics) \n",
    "and make a random dataset to play with the different IPU parameters.\n",
    "\n",
    "We will start by importing the necessary libraries:"
   ]
  },
  {
   "cell_type": "code",
   "execution_count": null,
   "id": "e3da7377",
   "metadata": {},
   "outputs": [],
   "source": [
    "import time\n",
    "\n",
    "import poptorch\n",
    "import torch\n",
    "import torch.nn as nn"
   ]
  },
  {
   "cell_type": "markdown",
   "id": "5b13b4fa",
   "metadata": {},
   "source": [
    "Now we will define some global variables that are used later. If you change \n",
    "any of these values then you should re-run all the cells below:"
   ]
  },
  {
   "cell_type": "code",
   "execution_count": null,
   "id": "3d8695ee",
   "metadata": {},
   "outputs": [],
   "source": [
    "device_iterations = 50\n",
    "batch_size = 16\n",
    "replicas = 1\n",
    "num_workers = 4"
   ]
  },
  {
   "cell_type": "markdown",
   "id": "e2341583",
   "metadata": {},
   "source": [
    "Let's create the model: "
   ]
  },
  {
   "cell_type": "code",
   "execution_count": null,
   "id": "3e989dc7",
   "metadata": {},
   "outputs": [],
   "source": [
    "class ClassificationModel(nn.Module):\n",
    "    def __init__(self):\n",
    "        super().__init__()\n",
    "        self.conv1 = nn.Conv2d(1, 5, 3)\n",
    "        self.pool = nn.MaxPool2d(2, 2)\n",
    "        self.conv2 = nn.Conv2d(5, 12, 5)\n",
    "        self.norm = nn.GroupNorm(3, 12)\n",
    "        self.fc1 = nn.Linear(41772, 100)\n",
    "        self.relu = nn.ReLU()\n",
    "        self.fc2 = nn.Linear(100, 10)\n",
    "        self.log_softmax = nn.LogSoftmax(dim=0)\n",
    "        self.loss = nn.NLLLoss()\n",
    "\n",
    "    def forward(self, x, labels=None):\n",
    "        x = self.pool(self.relu(self.conv1(x)))\n",
    "        x = self.norm(self.relu(self.conv2(x)))\n",
    "        x = torch.flatten(x, start_dim=1)\n",
    "        x = self.relu(self.fc1(x))\n",
    "        x = self.log_softmax(self.fc2(x))\n",
    "        if self.training:\n",
    "            return x, self.loss(x, labels)\n",
    "        return x\n",
    "\n",
    "\n",
    "opts = poptorch.Options()\n",
    "opts.deviceIterations(device_iterations)\n",
    "opts.replicationFactor(replicas)\n",
    "\n",
    "model = ClassificationModel()\n",
    "training_model = poptorch.trainingModel(\n",
    "    model,\n",
    "    opts,\n",
    "    torch.optim.SGD(model.parameters(), lr=0.001, momentum=0.9)\n",
    ")"
   ]
  },
  {
   "cell_type": "markdown",
   "id": "f0f525a6",
   "metadata": {},
   "source": [
    "Now we will create a sample random dataset, which we will later use to calculate \n",
    "processing time. "
   ]
  },
  {
   "cell_type": "code",
   "execution_count": null,
   "id": "52499f6c",
   "metadata": {},
   "outputs": [],
   "source": [
    "features = torch.randn([10000, 1, 128, 128])\n",
    "labels = torch.empty([10000], dtype=torch.long).random_(10)\n",
    "dataset = torch.utils.data.TensorDataset(features, labels)"
   ]
  },
  {
   "cell_type": "markdown",
   "id": "ce1cd193",
   "metadata": {},
   "source": [
    ">**Note**: executing the code in python script requires an conditional block:\n",
    ">```python\n",
    ">if __name__ == '__main__':\n",
    ">```\n",
    ">it is necessary to avoid [issues with asynchronous DataLoader](https://docs.graphcore.ai/projects/poptorch-user-guide/en/latest/batching.html#poptorch-asynchronousdataaccessor)\n",
    ", additionally the dataset must be serializable by pickle."
   ]
  },
  {
   "cell_type": "markdown",
   "id": "67849843",
   "metadata": {},
   "source": [
    "We are using larger images (128x128) to simulate a heavier data load.\n",
    "This will cause the input size of the layer `fc1` to change from  \n",
    "`self.fc1 = nn.Linear(972, 100)` to `self.fc1 = nn.Linear(41772, 100)` \n",
    "\n",
    "Let’s set up a PopTorch DataLoader with asynchronous mode."
   ]
  },
  {
   "cell_type": "code",
   "execution_count": null,
   "id": "b1cbe809",
   "metadata": {},
   "outputs": [],
   "source": [
    "training_data = poptorch.DataLoader(\n",
    "    opts,\n",
    "    dataset=dataset,\n",
    "    batch_size=batch_size,\n",
    "    shuffle=True,\n",
    "    drop_last=True,\n",
    "    num_workers=num_workers,\n",
    "    mode=poptorch.DataLoaderMode.Async\n",
    ")"
   ]
  },
  {
   "cell_type": "markdown",
   "id": "635d9374",
   "metadata": {},
   "source": [
    "The asynchronous mode of `poptorch.DataLoader` launches the data loading process \n",
    "on a separate process to allow for the data to be preprocessed asynchronously \n",
    "on the CPU to minimize CPU/IPU transfer time. This is why we prefer to use this \n",
    "option when the conditions described in the note above are met."
   ]
  },
  {
   "cell_type": "markdown",
   "id": "aaf7bf4e",
   "metadata": {},
   "source": [
    "## Understanding batching with IPU"
   ]
  },
  {
   "cell_type": "markdown",
   "id": "b767326d",
   "metadata": {},
   "source": [
    "When developing a model for the IPU, you will encounter different notions of \n",
    "batching. Mini-batches, replica batches, global batches... This section will \n",
    "explain how these hyperparameters are related to the IPU and how to compute \n",
    "the number of samples the DataLoader is going to fetch at one step."
   ]
  },
  {
   "cell_type": "markdown",
   "id": "0e81d1a8",
   "metadata": {},
   "source": [
    "#### Device iterations"
   ]
  },
  {
   "cell_type": "markdown",
   "id": "1bd1bba7",
   "metadata": {},
   "source": [
    "This diagram represents a basic execution on 1 IPU with \n",
    "***n*** device iterations and 1 mini-batch used per iteration.\n",
    "![Device Iterations](static/iterations.png)  \n",
    "A device iteration corresponds to one iteration of the training loop executed \n",
    "on the IPU, starting with data-loading and ending with a weight update.\n",
    "In this simple case, when we set ***n*** `deviceIterations`, the host will \n",
    "prepare ***n*** mini-batches in an infeed queue so the IPU can perform \n",
    "efficiently ***n*** iterations.  \n",
    "From the host point of view, this will correspond to a single call to the \n",
    "model (1 step):\n",
    "> ```python\n",
    "> training_model(data, labels)\n",
    "> ```"
   ]
  },
  {
   "cell_type": "markdown",
   "id": "9bd48386",
   "metadata": {},
   "source": [
    "#### Gradient accumulation"
   ]
  },
  {
   "cell_type": "markdown",
   "id": "f831d339",
   "metadata": {},
   "source": [
    "This parameter must be used with pipelining.  \n",
    "A pipelined model consists in splitting the graph into different successive \n",
    "computation stages.\n",
    "Every stage of a pipelined model can be placed on a different IPU, they all \n",
    "compute specific parts of the graph with their own weights. Each stage will \n",
    "compute the forward and backward pass of a mini-batch.\n",
    "Here we can see a 4 stage pipeline where 8 mini-batches are being processed.  \n",
    "“f”: stands for forward pass.  \n",
    "“b”: stands for backward pass.  \n",
    "![Gradient accumulation](static/pipeline.png)  \n",
    "When we set up a pipelined execution, we overcome the cost of having multiple \n",
    "stages by computing several batches in parallel when the pipeline is full."
   ]
  },
  {
   "cell_type": "markdown",
   "id": "8d5ae93d",
   "metadata": {},
   "source": [
    "Every pipeline stage needs to update its weights when the gradients are ready. \n",
    "However, it would be very inefficient to update them after each mini-batch \n",
    "completion. The solution is the following:\n",
    "After each backward pass the gradients are accumulated together for ***K*** \n",
    "mini-batches. Then, the accumulators are used to update the stage weights. \n",
    "This is gradient accumulation. This value can be set in PopTorch via the option:\n",
    "`opts.Training.gradientAccumulation(K)`\n",
    "In the previous part, we only had 1 mini-batch per weight update. This time we \n",
    "have ***K*** mini-batches per weight update.\n",
    "Then, for one device iteration with pipeline we have multiplied the number of \n",
    "samples processed by ***K***.\n",
    "\n",
    "More information about gradient accumulation can be found \n",
    "[in the PopTorch User Guide](https://docs.graphcore.ai/projects/poptorch-user-guide/en/latest/batching.html#poptorch-options-training-gradientaccumulation)."
   ]
  },
  {
   "cell_type": "markdown",
   "id": "de47fe39",
   "metadata": {},
   "source": [
    "#### Replication"
   ]
  },
  {
   "cell_type": "markdown",
   "id": "0e1e18e2",
   "metadata": {},
   "source": [
    "![Replication](static/replica.png)  \n",
    "Replication describes the process of running multiple instances of the same \n",
    "model simultaneously on different IPUs to achieve data parallelism. A great \n",
    "gain can be obtained from it. If the model requires ***N*** IPUs and the \n",
    "replication factor is ***M***, ***N*** x ***M*** IPUs will be necessary.\n",
    "The gradients are calculated among all replicas with a single “all reduce”. \n",
    "Then, for one device iteration we have increased by ***M*** the number of \n",
    "mini-batches processed.\n",
    "The PopTorch Dataloader will ensure that the host is sending each replica a \n",
    "different subset of the dataset."
   ]
  },
  {
   "cell_type": "markdown",
   "id": "af75627a",
   "metadata": {},
   "source": [
    "#### Global batch size"
   ]
  },
  {
   "cell_type": "markdown",
   "id": "254d59c1",
   "metadata": {},
   "source": [
    "Because several mini-batches can be processed by one device iteration (that is, \n",
    "for one weight update), we call **global batch size** this total number of \n",
    "samples:\n",
    "\n",
    "***Mini-batch size (sometimes called micro-batch)***  \n",
    "- The number of samples processed by one simple fwd/bwd pass.\n",
    "\n",
    "***Replica batch size***   \n",
    "- The number of samples on a single replica process before weight update  \n",
    "                Replica batch size = Mini-batch size x Gradient accumulation factor\n",
    "\n",
    "**Global batch size**  \n",
    "- The number of samples used for the weight update  \n",
    "                Global batch size  = Replica batch size x Number of replicas   \n",
    "                Global batch size  = Mini-batch size x Number of replicas x Gradient accumulation factor"
   ]
  },
  {
   "cell_type": "markdown",
   "id": "fd0a3397",
   "metadata": {},
   "source": [
    "#### How many samples will then be loaded in one step?\n",
    "Considering you are iterating through the PopTorch DataLoader:\n",
    "```python\n",
    "for data, labels in training_data:\n",
    "    training_model(data, labels)\n",
    "```\n",
    "For each step, the number of samples contained in `data` and `labels` will be:  \n",
    "***N = Global batch size x Device iterations***"
   ]
  },
  {
   "cell_type": "markdown",
   "id": "f107eb11",
   "metadata": {},
   "source": [
    "##\tTuning hyperparameters\n",
    "\n",
    "### Evaluating the asynchronous DataLoader"
   ]
  },
  {
   "cell_type": "markdown",
   "id": "e2f05644",
   "metadata": {},
   "source": [
    "How to make sure the DataLoader is not a bottleneck for our model throughput?\n",
    "In this tutorial we made an example benchmark to answer this question:\n",
    "1) As we will often measure time we will prepare a class to help us work with it:"
   ]
  },
  {
   "cell_type": "code",
   "execution_count": null,
   "id": "6b323269",
   "metadata": {},
   "outputs": [],
   "source": [
    "class catchtime:\n",
    "    def __enter__(self):\n",
    "        self.seconds = time.time()\n",
    "        return self\n",
    "\n",
    "    def __exit__(self, type, value, traceback):\n",
    "        self.seconds = time.time() - self.seconds"
   ]
  },
  {
   "cell_type": "markdown",
   "id": "da8b7f77",
   "metadata": {},
   "source": [
    "2)\tEvaluate the asynchronous DataLoader throughput without the IPU.\n",
    "We just loop through the DataLoader without running the model so we can estimate \n",
    "its maximum throughput."
   ]
  },
  {
   "cell_type": "code",
   "execution_count": null,
   "id": "1813d43f",
   "metadata": {},
   "outputs": [],
   "source": [
    "steps = len(training_data)\n",
    "with catchtime() as t:\n",
    "    for i, (data, labels) in enumerate(training_data):\n",
    "        a, b = data, labels\n",
    "\n",
    "print(f\"Total execution time: {t.seconds:.2f} s\")\n",
    "items_per_second = (steps * device_iterations * batch_size * replicas) / t.seconds\n",
    "print(f\"DataLoader throughput: {items_per_second:.2f} items/s\")\n",
    "\n",
    "training_data.terminate()"
   ]
  },
  {
   "cell_type": "markdown",
   "id": "3cf23bab",
   "metadata": {},
   "source": [
    ">***Note for release of resources***:\n",
    ">We have to detach IPU devices and also execute method `terminate` \n",
    ">of the `DataLoader` instance to fully terminate all worker threads.\n",
    ">The need for terminating the workers manually arises from the fact that we use\n",
    ">here the Asynchronous Data Loader `DataLoaderMode.Async` and that the data\n",
    ">sample count is not exactly divisible by the resulting number of multiplied\n",
    ">batch size and device count, leaving some workers waiting for their turn which\n",
    ">might not happen due to training ending first before all samples are exhausted.\n",
    "\n",
    "\n",
    "3)\tEvaluate the IPU throughput with synthetic data.\n",
    "To do so we will evaluate the model with synthetic data generated by the IPU using:"
   ]
  },
  {
   "cell_type": "code",
   "execution_count": null,
   "id": "0183e619",
   "metadata": {
    "tags": [
     "sst_hide_output"
    ]
   },
   "outputs": [],
   "source": [
    "opts.enableSyntheticData(True)"
   ]
  },
  {
   "cell_type": "markdown",
   "id": "c995ae38",
   "metadata": {},
   "source": [
    "There will be no data copying onto the device.\n",
    "Hence, the throughput measured will give an upper bound of the performance. \n",
    "\n",
    "Knowing that, if the asynchronous DataLoader throughput is greater or equal to \n",
    "this upper bound, it will not be a bottleneck.  \n",
    "Else, there is a risk that the DataLoader throughput is limiting. \n",
    "\n",
    "Note that this is only true if you're using an asynchronous DataLoader, the \n",
    "synchronous one can still slow down the overall execution as it will be run \n",
    "serially.\n",
    "\n",
    ">***Note for IPU benchmarking***:\n",
    ">The warmup time can be avoided by calling `training_model.compile(data, labels)` \n",
    "before any other call to the model. If not, the first call will include the \n",
    "compilation time.\n",
    ">```python\n",
    "># Warmup\n",
    ">print(\"Compiling + Warmup ...\")\n",
    ">training_model.compile(data, labels)\n",
    ">```"
   ]
  },
  {
   "cell_type": "code",
   "execution_count": null,
   "id": "fba51369",
   "metadata": {
    "tags": [
     "sst_hide_output"
    ]
   },
   "outputs": [],
   "source": [
    "training_model = poptorch.trainingModel(\n",
    "    model,\n",
    "    opts,\n",
    "    poptorch.optim.SGD(model.parameters(), lr=0.001, momentum=0.9)\n",
    ")\n",
    "training_data = poptorch.DataLoader(\n",
    "    opts,\n",
    "    dataset=dataset,\n",
    "    batch_size=batch_size,\n",
    "    shuffle=True,\n",
    "    drop_last=True,\n",
    "    num_workers=num_workers,\n",
    "    mode=poptorch.DataLoaderMode.Async,\n",
    "    async_options={\"early_preload\": True}\n",
    ")\n",
    "steps = len(training_data)\n",
    "data_batch, labels_batch = next(iter(training_data))\n",
    "training_model.compile(data_batch, labels_batch)"
   ]
  },
  {
   "cell_type": "code",
   "execution_count": null,
   "id": "0004ff22",
   "metadata": {},
   "outputs": [],
   "source": [
    "print(f\"Evaluating: {steps} steps of {device_iterations * batch_size * replicas} items\")\n",
    "\n",
    "# With synthetic data enabled, no data is copied from the host to the IPU,\n",
    "# so we don't use the dataloader, to prevent influencing the execution\n",
    "# time and therefore the IPU throughput calculation\n",
    "with catchtime() as t:\n",
    "    for _ in range(steps):\n",
    "        training_model(data_batch, labels_batch)\n",
    "\n",
    "items_per_second = (steps * device_iterations * batch_size * replicas) / t.seconds\n",
    "print(f\"Total execution time: {t.seconds:.2f} s\")\n",
    "print(f\"IPU throughput: {items_per_second:.2f} items/s\")\n",
    "\n",
    "training_data.terminate()"
   ]
  },
  {
   "cell_type": "markdown",
   "id": "066820da",
   "metadata": {},
   "source": [
    "### What if the DataLoader throughput is too low?"
   ]
  },
  {
   "cell_type": "markdown",
   "id": "13bedeb6",
   "metadata": {},
   "source": [
    "You can:\n",
    "- Try using the asynchronous mode of `poptorch.DataLoader`.\n",
    "- Try to increase the global batch size or the number of device iterations.\n",
    "- Adjust the number of workers.\n",
    "- If you are using the asynchronous mode to load a small number of elements \n",
    "per step, you can try to set `miss_sleep_time_in_ms = 0`."
   ]
  },
  {
   "cell_type": "markdown",
   "id": "f7d420b5",
   "metadata": {},
   "source": [
    "Suggestions if the performance drops at the beginning of an epoch: \n",
    "- Re-use workers by setting the DataLoader option `persistent_workers=True`.\n",
    "- Make sure `load_indefinitely` is set to `True` (It is the default value).\n",
    "- If the first iteration includes a very expensive operation (like opening or \n",
    "loading a large file) then increasing the `buffer_size` (size of the ring \n",
    "buffer) combined with the options above might help hide it at the cost of using \n",
    "more memory.\n",
    "- Set the option `early_preload=True`. This means the data accessor starts \n",
    "loading tensors immediately once it's being built (Whereas usually it will wait \n",
    "for an iterator to be created: for instance, when you enter the main loop). \n",
    "If the DataLoader is created before the model compilation is called, the data \n",
    "will be ready to be used when the compilation is over. The main drawback is \n",
    "that more RAM will be used on host as the data accessor and the compilation \n",
    "will work at the same time.\n",
    "> The options `miss_sleep_time_in_ms`, `early_preload`, `load_indefinitely` \n",
    "and `buffer_size` are specific to the AsynchronousDataAccessor. They will need \n",
    "to be passed to the DataLoader via the dictionary `async_options`:\n",
    "\n",
    "```python\n",
    "training_data = poptorch.DataLoader(opts, dataset=dataset, batch_size=16, \n",
    "                                    shuffle=True, drop_last=True,\n",
    "                                    num_workers=4, mode=poptorch.DataLoaderMode.Async,\n",
    "                                    async_options={\"early_preload\": True, \"miss_sleep_time_in_ms\": 0})\n",
    "```"
   ]
  },
  {
   "cell_type": "markdown",
   "id": "d7a5da91",
   "metadata": {},
   "source": [
    "### Device iterations vs global batch size"
   ]
  },
  {
   "cell_type": "markdown",
   "id": "ab51dc17",
   "metadata": {},
   "source": [
    "Even if we made sure the DataLoader is not a bottleneck anymore, the strategy \n",
    "we used for batching can be suboptimal. We must keep in mind that increasing \n",
    "the global batch size will improve the IPU utilisation while increasing device \n",
    "iteration will not."
   ]
  },
  {
   "cell_type": "markdown",
   "id": "51dcb821",
   "metadata": {},
   "source": [
    "#### Case of a training session"
   ]
  },
  {
   "cell_type": "markdown",
   "id": "9082c146",
   "metadata": {},
   "source": [
    "We have seen that the device can efficiently iterate while taking data prepared \n",
    "by the CPU in a queue. However, one iteration implies gradient computation and \n",
    "weight update on the device. The backward pass is computationally expensive. \n",
    "Then, for training it is recommended to prefer bigger global batch size over \n",
    "many device iterations in order to maximise parallelism."
   ]
  },
  {
   "cell_type": "markdown",
   "id": "f1b2641c",
   "metadata": {},
   "source": [
    "#### Case of an inference session "
   ]
  },
  {
   "cell_type": "markdown",
   "id": "975e7547",
   "metadata": {},
   "source": [
    "For inference only, there is no gradient computation and weights are frozen. \n",
    "In that case increasing the number of device iterations and using a smaller \n",
    "global batch-size should not harm."
   ]
  },
  {
   "cell_type": "markdown",
   "id": "d8b168d0",
   "metadata": {},
   "source": [
    "#### Conclusion: Training and inference sessions\n",
    "Finally, as a general recommendation these two parameters have to be tuned so \n",
    "your DataLoader can consume all the dataset in the smallest number of steps \n",
    "without throttling.  \n",
    "We can get this number of steps just by getting the length of the DataLoader \n",
    "object:\n",
    "```python\n",
    "steps = len(training_data)\n",
    "```"
   ]
  },
  {
   "cell_type": "markdown",
   "id": "68a78024",
   "metadata": {},
   "source": [
    "For an IterableDataset, the whole dataset is not necessarily consumed. With the \n",
    "`drop_last` argument, elements of the dataset may be discarded. If the batch \n",
    "size does not properly divide the number of elements per worker, the last \n",
    "uncomplete batches will be discarded."
   ]
  },
  {
   "cell_type": "markdown",
   "id": "a7ac255c",
   "metadata": {},
   "source": [
    "## Experiments"
   ]
  },
  {
   "cell_type": "markdown",
   "id": "49cf764c",
   "metadata": {},
   "source": [
    "We invite you to try these different sets of parameters to assess their effect. \n",
    "We included the throughput we obtained for illustration but it may vary \n",
    "depending on your configuration.  \n",
    "*Note: Compilation can take few minutes.*\n",
    "\n",
    "We will create a function that uses the previous code and validates the \n",
    "performance of our model "
   ]
  },
  {
   "cell_type": "code",
   "execution_count": null,
   "id": "7f789575",
   "metadata": {},
   "outputs": [],
   "source": [
    "def validate_model_performance(dataset, device_iterations=50,\n",
    "                               batch_size=16, replicas=4, num_workers=4,\n",
    "                               synthetic_data=False):\n",
    "    opts = poptorch.Options()\n",
    "    opts.deviceIterations(device_iterations)\n",
    "    opts.replicationFactor(replicas)\n",
    "    if synthetic_data:\n",
    "        opts.enableSyntheticData(True)\n",
    "\n",
    "    training_data = poptorch.DataLoader(opts, dataset=dataset, batch_size=batch_size,\n",
    "                                        shuffle=True, drop_last=True,\n",
    "                                        num_workers=num_workers,\n",
    "                                        mode=poptorch.DataLoaderMode.Async,\n",
    "                                        async_options={\"early_preload\": True})\n",
    "    steps = len(training_data)\n",
    "    with catchtime() as t:\n",
    "        for data_batch, labels_batch in training_data:\n",
    "            pass\n",
    "\n",
    "    items_per_second = (steps * device_iterations * batch_size * replicas) / t.seconds\n",
    "    print(f\"DataLoader: {items_per_second:.2f} items/s\")\n",
    "\n",
    "    if synthetic_data:\n",
    "        # With synthetic data enabled, no data is copied from the host to the IPU, so we don't use\n",
    "        # the dataloader, to prevent influencing the execution time and therefore the IPU throughput calculation\n",
    "        with catchtime() as t:\n",
    "            for _ in range(steps):\n",
    "                training_model(data_batch, labels_batch)\n",
    "    else:\n",
    "        with catchtime() as t:\n",
    "            for data, labels in training_data:\n",
    "                training_model(data, labels)\n",
    "\n",
    "    items_per_second = (steps * device_iterations * batch_size * replicas) / t.seconds\n",
    "    print(f\"IPU throughput: {items_per_second:.2f} items/s\")\n",
    "\n",
    "    training_data.terminate()"
   ]
  },
  {
   "cell_type": "markdown",
   "id": "abc53d26",
   "metadata": {},
   "source": [
    "Now we are ready to conduct experiments"
   ]
  },
  {
   "cell_type": "markdown",
   "id": "3f40f125",
   "metadata": {},
   "source": [
    "### Case 1: No bottleneck\n",
    "\n",
    "- mini-batch size: 16\n",
    "- replica: 1 (no replication)\n",
    "- device iterations: 50\n",
    "- workers: 4\n",
    "\n",
    "=> Global batch size 16 with synthetic data"
   ]
  },
  {
   "cell_type": "code",
   "execution_count": null,
   "id": "697404e6",
   "metadata": {},
   "outputs": [],
   "source": [
    "validate_model_performance(dataset, batch_size=16, replicas=1,\n",
    "                           device_iterations=50, num_workers=4,\n",
    "                           synthetic_data=True)"
   ]
  },
  {
   "cell_type": "markdown",
   "id": "a0cc8a57",
   "metadata": {},
   "source": [
    "=> Global batch size 16 with real data"
   ]
  },
  {
   "cell_type": "code",
   "execution_count": null,
   "id": "316d76e4",
   "metadata": {},
   "outputs": [],
   "source": [
    "validate_model_performance(dataset, batch_size=16, replicas=1,\n",
    "                           device_iterations=50, num_workers=4,\n",
    "                           synthetic_data=False)"
   ]
  },
  {
   "cell_type": "markdown",
   "id": "e92de0bc",
   "metadata": {},
   "source": [
    "From the tests you should be able to see that the throughput with processing \n",
    "the model is less than the capabilities of the Dataloader. This means that \n",
    "dataloader is not a bottlneck because, it is able to process more data than \n",
    "our model can consume.\n",
    "\n",
    "***Why is the throughput lower with real data?***  \n",
    "As mentioned previously, using synthetic data does not include the stream \n",
    "copies on the IPU. It also excludes the synchronisation time with the host. "
   ]
  },
  {
   "cell_type": "markdown",
   "id": "28180f8d",
   "metadata": {},
   "source": [
    "### Case 2: Larger global batch size with replication\n",
    "\n",
    "Let’s try to get better training performances by increasing the global batch size.\n",
    "We can choose to increase the replication factor so it avoids loading more data \n",
    "at a time on a single IPU.\n",
    "\n",
    "- mini-batch size: 16\n",
    "- replica: 4\n",
    "- device iterations: 50\n",
    "- workers: 4\n",
    "\n",
    "=> Global batch size 64 with synthetic data"
   ]
  },
  {
   "cell_type": "code",
   "execution_count": null,
   "id": "c4dab6b2",
   "metadata": {},
   "outputs": [],
   "source": [
    "validate_model_performance(dataset, batch_size=16, replicas=4,\n",
    "                           device_iterations=50, num_workers=4,\n",
    "                           synthetic_data=True)"
   ]
  },
  {
   "cell_type": "markdown",
   "id": "ad4eefcd",
   "metadata": {},
   "source": [
    "=> Global batch size 64 with real data"
   ]
  },
  {
   "cell_type": "code",
   "execution_count": null,
   "id": "144039b9",
   "metadata": {},
   "outputs": [],
   "source": [
    "validate_model_performance(dataset, batch_size=16, replicas=4,\n",
    "                           device_iterations=50, num_workers=4,\n",
    "                           synthetic_data=False)"
   ]
  },
  {
   "cell_type": "markdown",
   "id": "2e049e7f",
   "metadata": {},
   "source": [
    "This example gave an idea of how increasing the global batch size can improve \n",
    "the throughput.\n",
    "\n",
    "The runtime script where you can play with the parameters can be found in the \n",
    "file: `tuto_data_loading.py`. Helpful arguments:\n",
    "```bash\n",
    "--synthetic-data  # Run with IPU-generated synthetic data\n",
    "--replicas # Takes an integer parameter to set the number of replicas\n",
    "```"
   ]
  },
  {
   "cell_type": "markdown",
   "id": "b2783782",
   "metadata": {},
   "source": [
    "# Summary\n",
    "- To efficiently load your dataset to the IPU, the best practice is to use the \n",
    "dedicated PopTorch DataLoader.\n",
    "- At one step, ***N = Global batch size x Device iterations*** samples will be \n",
    "loaded.\n",
    "- A good way to know if the DataLoader is not a bottleneck is to compare its \n",
    "throughput with the model throughput on synthetic data.\n",
    "- Asynchronous mode can provide better performance."
   ]
  }
 ],
 "metadata": {},
 "nbformat": 4,
 "nbformat_minor": 5
}