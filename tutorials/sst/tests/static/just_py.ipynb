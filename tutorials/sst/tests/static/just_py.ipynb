{
 "cells": [
  {
   "cell_type": "code",
   "execution_count": 1,
   "id": "3ef3f62b",
   "metadata": {
    "execution": {
     "iopub.execute_input": "2021-09-22T14:25:42.319271Z",
     "iopub.status.busy": "2021-09-22T14:25:42.318740Z",
     "iopub.status.idle": "2021-09-22T14:25:42.322661Z",
     "shell.execute_reply": "2021-09-22T14:25:42.322906Z"
    }
   },
   "outputs": [
    {
     "name": "stdout",
     "output_type": "stream",
     "text": [
      "Hello John!\n"
     ]
    }
   ],
   "source": [
    "def hello(name):\n",
    "    print(f'Hello {name}!')\n",
    "\n",
    "hello('John')"
   ]
  }
 ],
 "metadata": {
  "language_info": {
   "codemirror_mode": {
    "name": "ipython",
    "version": 3
   },
   "file_extension": ".py",
   "mimetype": "text/x-python",
   "name": "python",
   "nbconvert_exporter": "python",
   "pygments_lexer": "ipython3",
   "version": "3.9.6"
  }
 },
 "nbformat": 4,
 "nbformat_minor": 5
}
