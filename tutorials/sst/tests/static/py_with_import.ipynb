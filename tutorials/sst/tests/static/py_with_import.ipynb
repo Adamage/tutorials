{
 "cells": [
  {
   "cell_type": "code",
   "execution_count": 1,
   "id": "f1d6db8d",
   "metadata": {
    "execution": {
     "iopub.execute_input": "2021-09-22T14:16:35.410164Z",
     "iopub.status.busy": "2021-09-22T14:16:35.408848Z",
     "iopub.status.idle": "2021-09-22T14:16:35.414627Z",
     "shell.execute_reply": "2021-09-22T14:16:35.413745Z"
    }
   },
   "outputs": [
    {
     "name": "stdout",
     "output_type": "stream",
     "text": [
      "Hello John!\n"
     ]
    }
   ],
   "source": [
    "from tests.static.function_to_import import hello\n",
    "\n",
    "hello('John')"
   ]
  },
  {
   "cell_type": "markdown",
   "id": "31ce7e43",
   "metadata": {},
   "source": [
    "Above should be printed output"
   ]
  }
 ],
 "metadata": {
  "language_info": {
   "codemirror_mode": {
    "name": "ipython",
    "version": 3
   },
   "file_extension": ".py",
   "mimetype": "text/x-python",
   "name": "python",
   "nbconvert_exporter": "python",
   "pygments_lexer": "ipython3",
   "version": "3.9.6"
  }
 },
 "nbformat": 4,
 "nbformat_minor": 5
}
