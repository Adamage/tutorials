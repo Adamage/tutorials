{
 "cells": [
  {
   "cell_type": "code",
   "execution_count": null,
   "id": "8cd68bd2",
   "metadata": {},
   "outputs": [],
   "source": [
    "from tests.static.function_to_import import hello\n",
    "\n",
    "hello('John')"
   ]
  },
  {
   "cell_type": "markdown",
   "id": "1486892e",
   "metadata": {},
   "source": [
    "Above should be printed output"
   ]
  }
 ],
 "metadata": {},
 "nbformat": 4,
 "nbformat_minor": 5
}
